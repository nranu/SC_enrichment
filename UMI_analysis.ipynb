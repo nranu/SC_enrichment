{
 "cells": [
  {
   "cell_type": "code",
   "execution_count": 1,
   "metadata": {
    "collapsed": true
   },
   "outputs": [],
   "source": [
    "%matplotlib inline"
   ]
  },
  {
   "cell_type": "code",
   "execution_count": 2,
   "metadata": {
    "collapsed": true
   },
   "outputs": [],
   "source": [
    "import collections\n",
    "import matplotlib\n",
    "import matplotlib.pyplot as plt\n",
    "import numpy as np\n",
    "import pandas as pd\n",
    "import scipy.sparse as sp_sparse\n",
    "import tables\n",
    "import seaborn as sns\n",
    "from collections import defaultdict\n",
    "from __future__ import division\n",
    "from scipy.stats import poisson"
   ]
  },
  {
   "cell_type": "code",
   "execution_count": 3,
   "metadata": {
    "collapsed": true
   },
   "outputs": [],
   "source": [
    "np.random.seed(0)\n",
    "\n",
    "GeneBCMatrix = collections.namedtuple('GeneBCMatrix', ['gene_ids', 'gene_names', 'barcodes', 'matrix'])\n",
    "def get_matrix_from_h5(filename, genome):\n",
    "    with tables.open_file(filename, 'r') as f:\n",
    "        try:\n",
    "            dsets = {}\n",
    "            for node in f.walk_nodes('/' + genome, 'Array'):\n",
    "                dsets[node.name] = node.read()\n",
    "            matrix = sp_sparse.csc_matrix((dsets['data'], dsets['indices'], dsets['indptr']), shape=dsets['shape'])\n",
    "            return GeneBCMatrix(dsets['genes'], dsets['gene_names'], dsets['barcodes'], matrix)\n",
    "        except tables.NoSuchNodeError:\n",
    "            raise Exception(\"Genome %s does not exist in this file.\" % genome)\n",
    "        except KeyError:\n",
    "            raise Exception(\"File is missing one or more required datasets.\")\n",
    "\n",
    "def Read10x(filepath):   \n",
    "    with tables.open_file(filepath, 'r') as f:\n",
    "        try:\n",
    "            group = f.get_node(f.root)\n",
    "        except tables.NoSuchNodeError:\n",
    "            print \"That genome does not exist in this file.\"\n",
    "        gene_ids = getattr(group, 'gene_ids').read()\n",
    "        gene_names = getattr(group, 'gene_names').read()\n",
    "        gene = getattr(group, 'gene').read()\n",
    "        umi_corrected_reads=getattr(group, 'umi_corrected_reads').read()\n",
    "        nonconf_mapped_reads=getattr(group, 'nonconf_mapped_reads').read()\n",
    "        conf_mapped_uniq_read_pos=getattr(group, 'conf_mapped_uniq_read_pos').read()\n",
    "        unmapped_reads=getattr(group, 'unmapped_reads').read()\n",
    "        barcodes = getattr(group, 'barcode').read()\n",
    "        reads = getattr(group, 'reads').read()\n",
    "        umi = getattr(group, 'umi').read()\n",
    "\n",
    "        TABLE=pd.DataFrame()\n",
    "        TABLE['bc']=barcodes\n",
    "        TABLE['umi']=umi\n",
    "        #TABLE['bcumi']=zip(barcodes,umi)\n",
    "        TABLE['gene']=gene\n",
    "        TABLE['unique']=[1]*len(TABLE)\n",
    "        TABLE['map_logical']=conf_mapped_uniq_read_pos>0\n",
    "        TABLE['read_counts']=reads+nonconf_mapped_reads+unmapped_reads\n",
    "        return TABLE\n",
    "def setenv(newDict):\n",
    "    DNA={}\n",
    "    DNA['A']='00'\n",
    "    DNA['C']='01'\n",
    "    DNA['G']='10'\n",
    "    DNA['T']='11'\n",
    "\n",
    "    BC_DNA2={}\n",
    "    for i in newDict.iterkeys(): \n",
    "        string=newDict[i]\n",
    "        for j in DNA.iterkeys():\n",
    "            string=string.replace(j,DNA[j])\n",
    "        BC_DNA2[i]=int(string,2)\n",
    "    return BC_DNA2\n",
    "def get_gene(BC,df_1):\n",
    "    Total=df_1.gene[df_1.bc==BC].value_counts().to_frame()\n",
    "    Total.columns=['Counts']\n",
    "    genes1=np.zeros(32739)\n",
    "    for index,rows in Total.iterrows():\n",
    "        genes1[index]=rows['Counts']\n",
    "    return sp_sparse.csr_matrix(genes1[:-1])"
   ]
  },
  {
   "cell_type": "code",
   "execution_count": 4,
   "metadata": {
    "collapsed": true
   },
   "outputs": [],
   "source": [
    "newDict = {}\n",
    "#insert path to barcode text file\n",
    "with open('/../enriched_barcodes.txt', 'r') as f:\n",
    "    for line in f:\n",
    "        splitLine = line.split(',')\n",
    "        newDict[int(splitLine[0])] = splitLine[1][:-1]\n",
    "BC=setenv(newDict)"
   ]
  },
  {
   "cell_type": "code",
   "execution_count": 5,
   "metadata": {},
   "outputs": [
    {
     "data": {
      "text/plain": [
       "{0: 2447304164,\n",
       " 1: 1831374431,\n",
       " 2: 2777602941,\n",
       " 3: 4069560727,\n",
       " 4: 3159016981,\n",
       " 5: 1237536813,\n",
       " 6: 3442027070,\n",
       " 7: 878895426,\n",
       " 8: 2876950998,\n",
       " 9: 2641437145,\n",
       " 10: 782271600,\n",
       " 11: 425949806,\n",
       " 12: 74404242,\n",
       " 13: 4148209948,\n",
       " 14: 457224588,\n",
       " 15: 2337869073,\n",
       " 16: 307804185,\n",
       " 17: 2902003449,\n",
       " 18: 3526922860,\n",
       " 19: 1644725441,\n",
       " 20: 1897320229,\n",
       " 21: 2037426491,\n",
       " 22: 3011316760,\n",
       " 23: 2902014267,\n",
       " 24: 1553767297,\n",
       " 25: 3365849057,\n",
       " 26: 2045589819,\n",
       " 27: 446614033,\n",
       " 30: 4150073440,\n",
       " 31: 3842204791,\n",
       " 32: 3526959403,\n",
       " 33: 4115206434,\n",
       " 34: 1553952741,\n",
       " 35: 425949806,\n",
       " 36: 3089673788,\n",
       " 37: 1231069479,\n",
       " 38: 2935154170,\n",
       " 39: 2403930468,\n",
       " 40: 3553024695,\n",
       " 41: 878892926,\n",
       " 42: 2232204505,\n",
       " 43: 1372026117,\n",
       " 44: 651120533,\n",
       " 45: 2676013090,\n",
       " 46: 1723033910,\n",
       " 47: 550165679,\n",
       " 48: 1152598806,\n",
       " 49: 3496174711,\n",
       " 50: 1372026664,\n",
       " 51: 3711101787,\n",
       " 52: 1671738673,\n",
       " 53: 3089698441,\n",
       " 54: 3077345579,\n",
       " 55: 2465246051,\n",
       " 56: 2827815325,\n",
       " 57: 2800520619,\n",
       " 58: 2484030295,\n",
       " 59: 1897320600,\n",
       " 60: 94068970,\n",
       " 61: 3331277687,\n",
       " 62: 4157272500,\n",
       " 63: 4213895214,\n",
       " 64: 4150072069,\n",
       " 65: 289633541,\n",
       " 66: 46889227,\n",
       " 67: 1544076232,\n",
       " 68: 1671760753}"
      ]
     },
     "execution_count": 5,
     "metadata": {},
     "output_type": "execute_result"
    }
   ],
   "source": [
    "BC"
   ]
  },
  {
   "cell_type": "code",
   "execution_count": 6,
   "metadata": {
    "collapsed": true
   },
   "outputs": [],
   "source": [
    "#insert path to non enriched deep sequencing molecule info H5 file from 10X pipeline\n",
    "c_path='/../molecule_info.h5'\n",
    "control=Read10x(c_path)"
   ]
  },
  {
   "cell_type": "code",
   "execution_count": null,
   "metadata": {
    "collapsed": true
   },
   "outputs": [],
   "source": []
  },
  {
   "cell_type": "code",
   "execution_count": 7,
   "metadata": {},
   "outputs": [
    {
     "name": "stdout",
     "output_type": "stream",
     "text": [
      "CPU times: user 137 ms, sys: 176 ms, total: 314 ms\n",
      "Wall time: 2.34 s\n"
     ]
    }
   ],
   "source": [
    "#HLA_DR\n",
    "filtered_matrix_h5='/Users/nranu/Desktop/SC_enrichment/filtered_gene_bc_matrices_h5.h5'\n",
    "\n",
    "genome = \"hg19\"\n",
    "\n",
    "%time gene_bc_matrix = get_matrix_from_h5(filtered_matrix_h5, genome)\n",
    "\n",
    "gnames=gene_bc_matrix.gene_names\n",
    "cnames=gene_bc_matrix.barcodes\n",
    "DGE=pd.DataFrame(gene_bc_matrix.matrix.toarray())\n",
    "DGE.index=gnames\n",
    "DGE.columns=cnames"
   ]
  },
  {
   "cell_type": "code",
   "execution_count": 8,
   "metadata": {
    "collapsed": true
   },
   "outputs": [],
   "source": [
    "umi=pd.DataFrame(control.bc.value_counts())\n",
    "umi.columns=['Umi']"
   ]
  },
  {
   "cell_type": "code",
   "execution_count": 9,
   "metadata": {},
   "outputs": [
    {
     "data": {
      "image/png": "[encoded data removed]",
      "text/plain": [
       "<matplotlib.figure.Figure at 0x1a24691350>"
      ]
     },
     "metadata": {},
     "output_type": "display_data"
    }
   ],
   "source": [
    "fig, ax = plt.subplots(figsize=(4.5,3))\n",
    "sns.set(style='white')\n",
    "sns.set_context(\"paper\",rc={\"lines.linewidth\": 2,'axes.labelsize': 16,'text.fontsize': 12,'legend.fontsize': 12,\n",
    "   'xtick.labelsize': 12,'ytick.labelsize': 12,'text.usetex': False})\n",
    "plt.plot(range(0,umi.shape[0]),umi.Umi,c='k')\n",
    "plt.xlabel('Number of Single Cells')\n",
    "plt.ylabel('Number of Umis')\n",
    "\n",
    "plt.yscale('log')\n",
    "plt.xscale('log')\n",
    "plt.axhline(y=1100,color='k',ls='dashed')\n",
    "ax.tick_params(axis=u'both', which=u'both',length=2)\n",
    "plt.minorticks_off()\n",
    "plt.ylim([.5,100000])\n",
    "sns.set_context(\"paper\",rc={\"lines.linewidth\": 2,'axes.labelsize': 10,'text.fontsize': 10,'legend.fontsize': 10,\n",
    "   'xtick.labelsize': 10,'ytick.labelsize': 10,'text.usetex': False})\n"
   ]
  },
  {
   "cell_type": "code",
   "execution_count": null,
   "metadata": {
    "collapsed": true
   },
   "outputs": [],
   "source": []
  },
  {
   "cell_type": "code",
   "execution_count": 16,
   "metadata": {
    "collapsed": true
   },
   "outputs": [],
   "source": [
    "rare=defaultdict(str)\n",
    "counter=0\n",
    "for bc_ in DGE.columns:\n",
    "    rare[counter]=bc_[:-2]\n",
    "    counter+=1\n",
    "BC_set=setenv(rare)"
   ]
  },
  {
   "cell_type": "code",
   "execution_count": 46,
   "metadata": {
    "collapsed": true
   },
   "outputs": [],
   "source": [
    "samples=[1,2,3]\n",
    "t_path=#Path to data\n",
    "sample_path1='NR_'+str(samples[0])+'/'\n",
    "sample_path2='NR_'+str(samples[1])+'/'\n",
    "sample_path3='NR_'+str(samples[2])+'/'\n",
    "file_path='molecule_info.h5'\n",
    "filtered_matrix_h5='/Users/nranu/Desktop/SC_enrichment/filtered_gene_bc_matrices_h5.h5'\n",
    "genome = \"hg19\"\n",
    "#%time gene_bc_matrix1 = get_matrix_from_h5(t_path+sample_path1+file_path, genome)\n",
    "#%time gene_bc_matrix2 = get_matrix_from_h5(t_path+sample_path2+file_path, genome)\n",
    "#%time gene_bc_matrix3 = get_matrix_from_h5(t_path+sample_path3+file_path, genome)\n",
    "NR1=Read10x(t_path+sample_path1+file_path)\n",
    "NR2=Read10x(t_path+sample_path2+file_path)\n",
    "NR3=Read10x(t_path+sample_path3+file_path)"
   ]
  },
  {
   "cell_type": "code",
   "execution_count": 47,
   "metadata": {
    "collapsed": true
   },
   "outputs": [],
   "source": [
    "samples=[16,17,18]\n",
    "t_path=#Path to data\n",
    "sample_path1='NR_'+str(samples[0])+'/'\n",
    "sample_path2='NR_'+str(samples[1])+'/'\n",
    "sample_path3='NR_'+str(samples[2])+'/'\n",
    "file_path='molecule_info.h5'\n",
    "filtered_matrix_h5='/Users/nranu/Desktop/SC_enrichment/filtered_gene_bc_matrices_h5.h5'\n",
    "genome = \"hg19\"\n",
    "#%time gene_bc_matrix16 = get_matrix_from_h5(t_path+sample_path1+file_path, genome)\n",
    "#%time gene_bc_matrix17= get_matrix_from_h5(t_path+sample_path2+file_path, genome)\n",
    "#%time gene_bc_matrix18 = get_matrix_from_h5(t_path+sample_path3+file_path, genome)\n",
    "NR16=Read10x(t_path+sample_path1+file_path)\n",
    "NR17=Read10x(t_path+sample_path2+file_path)\n",
    "NR18=Read10x(t_path+sample_path3+file_path)"
   ]
  },
  {
   "cell_type": "code",
   "execution_count": 94,
   "metadata": {
    "collapsed": true
   },
   "outputs": [],
   "source": [
    "samples=[1,2,3]\n",
    "t_path=#Path to data\n",
    "sample_path1='NR_'+str(samples[0])+'/'\n",
    "sample_path2='NR_'+str(samples[1])+'/'\n",
    "sample_path3='NR_'+str(samples[2])+'/'\n",
    "file_path='molecule_info.h5'\n",
    "filtered_matrix_h5='/Users/nranu/Desktop/SC_enrichment/filtered_gene_bc_matrices_h5.h5'\n",
    "genome = \"hg19\"\n",
    "#%time gene_bc_matrix16 = get_matrix_from_h5(t_path+sample_path1+file_path, genome)\n",
    "#%time gene_bc_matrix17= get_matrix_from_h5(t_path+sample_path2+file_path, genome)\n",
    "#%time gene_bc_matrix18 = get_matrix_from_h5(t_path+sample_path3+file_path, genome)\n",
    "NR1_1=Read10x(t_path+sample_path1+file_path)\n",
    "NR2_1=Read10x(t_path+sample_path2+file_path)\n",
    "NR3_1=Read10x(t_path+sample_path3+file_path)"
   ]
  },
  {
   "cell_type": "code",
   "execution_count": 95,
   "metadata": {
    "collapsed": true
   },
   "outputs": [],
   "source": [
    "samples=[1,2,3]\n",
    "t_path=#Path to data\n",
    "sample_path1='NR_'+str(samples[0])+'/'\n",
    "sample_path2='NR_'+str(samples[1])+'/'\n",
    "sample_path3='NR_'+str(samples[2])+'/'\n",
    "file_path='molecule_info.h5'\n",
    "#filtered_matrix_h5='/Users/nranu/Desktop/SC_enrichment/filtered_gene_bc_matrices_h5.h5'\n",
    "#genome = \"hg19\"\n",
    "#%time gene_bc_matrix16 = get_matrix_from_h5(t_path+sample_path1+file_path, genome)\n",
    "#%time gene_bc_matrix17= get_matrix_from_h5(t_path+sample_path2+file_path, genome)\n",
    "#%time gene_bc_matrix18 = get_matrix_from_h5(t_path+sample_path3+file_path, genome)\n",
    "NR1_2=Read10x(t_path+sample_path1+file_path)\n",
    "NR2_2=Read10x(t_path+sample_path2+file_path)\n",
    "NR3_2=Read10x(t_path+sample_path3+file_path)"
   ]
  },
  {
   "cell_type": "code",
   "execution_count": 96,
   "metadata": {
    "collapsed": true
   },
   "outputs": [],
   "source": [
    "samples=[4,5,6]\n",
    "t_path=#Path to data\n",
    "sample_path1='NR_'+str(samples[0])+'/'\n",
    "sample_path2='NR_'+str(samples[1])+'/'\n",
    "sample_path3='NR_'+str(samples[2])+'/'\n",
    "file_path='molecule_info.h5'\n",
    "#filtered_matrix_h5='/Users/nranu/Desktop/SC_enrichment/filtered_gene_bc_matrices_h5.h5'\n",
    "#genome = \"hg19\"\n",
    "#%time gene_bc_matrix16 = get_matrix_from_h5(t_path+sample_path1+file_path, genome)\n",
    "#%time gene_bc_matrix17= get_matrix_from_h5(t_path+sample_path2+file_path, genome)\n",
    "#%time gene_bc_matrix18 = get_matrix_from_h5(t_path+sample_path3+file_path, genome)\n",
    "NR4=Read10x(t_path+sample_path1+file_path)\n",
    "NR5=Read10x(t_path+sample_path2+file_path)\n",
    "NR6=Read10x(t_path+sample_path3+file_path)"
   ]
  },
  {
   "cell_type": "code",
   "execution_count": 175,
   "metadata": {},
   "outputs": [
    {
     "name": "stdout",
     "output_type": "stream",
     "text": [
      "1199414 1300097 1443786\n"
     ]
    }
   ],
   "source": [
    "print NR1_1.read_counts.sum(),NR2_1.read_counts.sum(),NR3_1.read_counts.sum()"
   ]
  },
  {
   "cell_type": "code",
   "execution_count": 177,
   "metadata": {},
   "outputs": [
    {
     "data": {
      "text/plain": [
       "1314432.3333333333"
      ]
     },
     "execution_count": 177,
     "metadata": {},
     "output_type": "execute_result"
    }
   ],
   "source": [
    "np.mean([1199414,1443786,1300097])"
   ]
  },
  {
   "cell_type": "code",
   "execution_count": 49,
   "metadata": {
    "collapsed": true
   },
   "outputs": [],
   "source": [
    "S_NR1=NR1.sample(1000000,weights=NR1.read_counts,replace=True)\n",
    "S_NR2=NR2.sample(1000000,weights=NR2.read_counts,replace=True)\n",
    "S_NR3=NR3.sample(1000000,weights=NR3.read_counts,replace=True)\n",
    "S_C=control.sample(1000000,weights=control.read_counts,replace=True)"
   ]
  },
  {
   "cell_type": "code",
   "execution_count": 50,
   "metadata": {
    "collapsed": true
   },
   "outputs": [],
   "source": [
    "S_NR16=NR16.sample(880000,weights=NR16.read_counts,replace=True)\n",
    "S_NR17=NR17.sample(880000,weights=NR17.read_counts,replace=True)\n",
    "S_NR18=NR18.sample(880000,weights=NR18.read_counts,replace=True)\n",
    "S_C_2=control.sample(880000,weights=control.read_counts,replace=True)"
   ]
  },
  {
   "cell_type": "code",
   "execution_count": 135,
   "metadata": {
    "collapsed": true
   },
   "outputs": [],
   "source": [
    "S_NR1_1=NR1_1.sample(1000000,weights=NR1_1.read_counts,replace=True)\n",
    "S_NR2_1=NR2_1.sample(1000000,weights=NR2_1.read_counts,replace=True)\n",
    "S_NR3_1=NR3_1.sample(1000000,weights=NR3_1.read_counts,replace=True)\n",
    "S_C_3=control.sample(1000000,weights=control.read_counts,replace=True)"
   ]
  },
  {
   "cell_type": "code",
   "execution_count": 136,
   "metadata": {
    "collapsed": true
   },
   "outputs": [],
   "source": [
    "S_NR1_2=NR1_2.sample(2600000,weights=NR1_2.read_counts,replace=True)\n",
    "S_NR2_2=NR2_2.sample(2600000,weights=NR2_2.read_counts,replace=True)\n",
    "S_NR3_2=NR3_2.sample(2600000,weights=NR3_2.read_counts,replace=True)\n",
    "S_C_4=control.sample(2600000,weights=control.read_counts,replace=True)"
   ]
  },
  {
   "cell_type": "code",
   "execution_count": 137,
   "metadata": {
    "collapsed": true
   },
   "outputs": [],
   "source": [
    "S_NR4=NR4.sample(2900000,weights=NR4.read_counts,replace=True)\n",
    "S_NR5=NR5.sample(2900000,weights=NR5.read_counts,replace=True)\n",
    "S_NR6=NR6.sample(2900000,weights=NR6.read_counts,replace=True)\n",
    "S_C_5=control.sample(2900000,weights=control.read_counts,replace=True)"
   ]
  },
  {
   "cell_type": "code",
   "execution_count": null,
   "metadata": {
    "collapsed": true
   },
   "outputs": [],
   "source": []
  },
  {
   "cell_type": "code",
   "execution_count": 52,
   "metadata": {
    "collapsed": true
   },
   "outputs": [],
   "source": [
    "umi_=defaultdict(int)\n",
    "for k,val in BC_set.iteritems():\n",
    "    #val=BC[item]\n",
    "    a=len(S_NR1[(S_NR1.bc==val)&(S_NR1.read_counts>2)]['umi'].unique())\n",
    "    b=len(S_NR2[(S_NR2.bc==val)&(S_NR2.read_counts>2)]['umi'].unique())\n",
    "    c=len(S_NR3[(S_NR3.bc==val)&(S_NR3.read_counts>2)]['umi'].unique())\n",
    "    d=len(S_C[S_C.bc==val]['umi'].unique())\n",
    "    umi_[val]=[a,b,c,d]"
   ]
  },
  {
   "cell_type": "code",
   "execution_count": 53,
   "metadata": {
    "collapsed": true
   },
   "outputs": [],
   "source": [
    "umi_2=defaultdict(int)\n",
    "for k,val in BC_set.iteritems():\n",
    "    #val=BC[item]\n",
    "    a=len(S_NR16[(S_NR16.bc==val)&(S_NR16.read_counts>2)]['umi'].unique())\n",
    "    b=len(S_NR17[(S_NR17.bc==val)&(S_NR17.read_counts>2)]['umi'].unique())\n",
    "    c=len(S_NR18[(S_NR18.bc==val)&(S_NR18.read_counts>2)]['umi'].unique())\n",
    "    d=len(S_C_2[S_C_2.bc==val]['umi'].unique())\n",
    "    umi_2[val]=[a,b,c,d]"
   ]
  },
  {
   "cell_type": "code",
   "execution_count": 105,
   "metadata": {
    "collapsed": true
   },
   "outputs": [],
   "source": [
    "umi_3=defaultdict(int)\n",
    "for k,val in BC_set.iteritems():\n",
    "    #val=BC[item]\n",
    "    a=len(S_NR1_1[(S_NR1_1.bc==val)&(S_NR1_1.read_counts>2)]['umi'].unique())\n",
    "    b=len(S_NR2_1[(S_NR2_1.bc==val)&(S_NR2_1.read_counts>2)]['umi'].unique())\n",
    "    c=len(S_NR3_1[(S_NR3_1.bc==val)&(S_NR3_1.read_counts>2)]['umi'].unique())\n",
    "    d=len(S_C_3[S_C_3.bc==val]['umi'].unique())\n",
    "    umi_3[val]=[a,b,c,d]"
   ]
  },
  {
   "cell_type": "code",
   "execution_count": 138,
   "metadata": {
    "collapsed": true
   },
   "outputs": [],
   "source": [
    "umi_4=defaultdict(int)\n",
    "for k,val in BC_set.iteritems():\n",
    "    #val=BC[item]\n",
    "    a=len(S_NR1_2[(S_NR1_2.bc==val)&(S_NR1_2.read_counts>2)]['umi'].unique())\n",
    "    b=len(S_NR2_2[(S_NR2_2.bc==val)&(S_NR2_2.read_counts>2)]['umi'].unique())\n",
    "    c=len(S_NR3_2[(S_NR3_2.bc==val)&(S_NR3_2.read_counts>2)]['umi'].unique())\n",
    "    d=len(S_C_3[S_C_3.bc==val]['umi'].unique())\n",
    "    umi_4[val]=[a,b,c,d]"
   ]
  },
  {
   "cell_type": "code",
   "execution_count": 139,
   "metadata": {
    "collapsed": true
   },
   "outputs": [],
   "source": [
    "umi_5=defaultdict(int)\n",
    "for k,val in BC_set.iteritems():\n",
    "    #val=BC[item]\n",
    "    a=len(S_NR4[(S_NR4.bc==val)&(S_NR4.read_counts>2)]['umi'].unique())\n",
    "    b=len(S_NR5[(S_NR5.bc==val)&(S_NR5.read_counts>2)]['umi'].unique())\n",
    "    c=len(S_NR6[(S_NR6.bc==val)&(S_NR6.read_counts>2)]['umi'].unique())\n",
    "    d=len(S_C_3[S_C_3.bc==val]['umi'].unique())\n",
    "    umi_5[val]=[a,b,c,d]"
   ]
  },
  {
   "cell_type": "code",
   "execution_count": null,
   "metadata": {
    "collapsed": true
   },
   "outputs": [],
   "source": []
  },
  {
   "cell_type": "code",
   "execution_count": 55,
   "metadata": {
    "collapsed": true
   },
   "outputs": [],
   "source": [
    "umi_df=pd.DataFrame.from_dict(umi_,orient='index')\n",
    "umi_df.columns=['rep1','rep2','rep3','control']\n",
    "umi_df['ave']=umi_df[['rep1','rep2','rep3']].mean(axis=1)\n",
    "umi_df['fold']=umi_df.ave/umi_df.control"
   ]
  },
  {
   "cell_type": "code",
   "execution_count": 56,
   "metadata": {
    "collapsed": true
   },
   "outputs": [],
   "source": [
    "umi_df_2=pd.DataFrame.from_dict(umi_2,orient='index')\n",
    "umi_df_2.columns=['rep1','rep2','rep3','control']\n",
    "umi_df_2['ave']=umi_df_2[['rep1','rep2','rep3']].mean(axis=1)\n",
    "umi_df_2['fold']=umi_df_2.ave/umi_df_2.control"
   ]
  },
  {
   "cell_type": "code",
   "execution_count": 57,
   "metadata": {
    "collapsed": true
   },
   "outputs": [],
   "source": [
    "umi_df_3=pd.DataFrame.from_dict(umi_3,orient='index')\n",
    "umi_df_3.columns=['rep1','rep2','rep3','control']\n",
    "umi_df_3['ave']=umi_df_3[['rep1','rep2','rep3']].mean(axis=1)\n",
    "umi_df_3['fold']=umi_df_3.ave/umi_df_3.control"
   ]
  },
  {
   "cell_type": "code",
   "execution_count": 140,
   "metadata": {
    "collapsed": true
   },
   "outputs": [],
   "source": [
    "umi_df_4=pd.DataFrame.from_dict(umi_4,orient='index')\n",
    "umi_df_4.columns=['rep1','rep2','rep3','control']\n",
    "umi_df_4['ave']=umi_df_4[['rep1','rep2','rep3']].mean(axis=1)\n",
    "umi_df_4['fold']=umi_df_4.ave/umi_df_4.control"
   ]
  },
  {
   "cell_type": "code",
   "execution_count": 141,
   "metadata": {
    "collapsed": true
   },
   "outputs": [],
   "source": [
    "umi_df_5=pd.DataFrame.from_dict(umi_5,orient='index')\n",
    "umi_df_5.columns=['rep1','rep2','rep3','control']\n",
    "umi_df_5['ave']=umi_df_5[['rep1','rep2','rep3']].mean(axis=1)\n",
    "umi_df_5['fold']=umi_df_5.ave/umi_df_5.control"
   ]
  },
  {
   "cell_type": "code",
   "execution_count": 157,
   "metadata": {
    "collapsed": true
   },
   "outputs": [],
   "source": [
    "umi_df['Keep']=0\n",
    "umi_df_2['Keep']=0\n",
    "umi_df_3['Keep']=0\n",
    "\n",
    "umi_df_4['Keep']=0\n",
    "umi_df_5['Keep']=0"
   ]
  },
  {
   "cell_type": "code",
   "execution_count": 59,
   "metadata": {
    "collapsed": true
   },
   "outputs": [],
   "source": [
    "umi_df['rep1_']=umi_df_2.rep1/umi_df_2.control\n",
    "umi_df['rep2_']=umi_df_2.rep2/umi_df_2.control\n",
    "umi_df['rep3_']=umi_df_2.rep3/umi_df_2.control"
   ]
  },
  {
   "cell_type": "code",
   "execution_count": 60,
   "metadata": {
    "collapsed": true
   },
   "outputs": [],
   "source": [
    "umi_df_2['rep1_']=umi_df_2.rep1/umi_df_2.control\n",
    "umi_df_2['rep2_']=umi_df_2.rep2/umi_df_2.control\n",
    "umi_df_2['rep3_']=umi_df_2.rep3/umi_df_2.control"
   ]
  },
  {
   "cell_type": "code",
   "execution_count": 61,
   "metadata": {
    "collapsed": true
   },
   "outputs": [],
   "source": [
    "umi_df_3['rep1_']=umi_df_3.rep1/umi_df_3.control\n",
    "umi_df_3['rep2_']=umi_df_3.rep2/umi_df_3.control\n",
    "umi_df_3['rep3_']=umi_df_3.rep3/umi_df_3.control"
   ]
  },
  {
   "cell_type": "code",
   "execution_count": 143,
   "metadata": {
    "collapsed": true
   },
   "outputs": [],
   "source": [
    "umi_df_4['rep1_']=umi_df_4.rep1/umi_df_4.control\n",
    "umi_df_4['rep2_']=umi_df_4.rep2/umi_df_4.control\n",
    "umi_df_4['rep3_']=umi_df_4.rep3/umi_df_4.control"
   ]
  },
  {
   "cell_type": "code",
   "execution_count": 144,
   "metadata": {
    "collapsed": true
   },
   "outputs": [],
   "source": [
    "umi_df_5['rep1_']=umi_df_5.rep1/umi_df_5.control\n",
    "umi_df_5['rep2_']=umi_df_5.rep2/umi_df_5.control\n",
    "umi_df_5['rep3_']=umi_df_5.rep3/umi_df_5.control"
   ]
  },
  {
   "cell_type": "code",
   "execution_count": 145,
   "metadata": {
    "collapsed": true
   },
   "outputs": [],
   "source": [
    "umi_df['std']=umi_df[['rep1_','rep2_','rep3_']].std(axis=1)\n",
    "umi_df_2['std']=umi_df_2[['rep1_','rep2_','rep3_']].std(axis=1)\n",
    "umi_df_3['std']=umi_df_3[['rep1_','rep2_','rep3_']].std(axis=1)\n",
    "umi_df_4['std']=umi_df_4[['rep1_','rep2_','rep3_']].std(axis=1)\n",
    "umi_df_5['std']=umi_df_5[['rep1_','rep2_','rep3_']].std(axis=1)"
   ]
  },
  {
   "cell_type": "code",
   "execution_count": 158,
   "metadata": {},
   "outputs": [
    {
     "name": "stderr",
     "output_type": "stream",
     "text": [
      "/Users/nranu/anaconda2/lib/python2.7/site-packages/ipykernel_launcher.py:9: FutureWarning: set_value is deprecated and will be removed in a future release. Please use .at[] or .iat[] accessors instead\n",
      "  if __name__ == '__main__':\n",
      "/Users/nranu/anaconda2/lib/python2.7/site-packages/ipykernel_launcher.py:11: FutureWarning: set_value is deprecated and will be removed in a future release. Please use .at[] or .iat[] accessors instead\n",
      "  # This is added back by InteractiveShellApp.init_path()\n",
      "/Users/nranu/anaconda2/lib/python2.7/site-packages/ipykernel_launcher.py:13: FutureWarning: set_value is deprecated and will be removed in a future release. Please use .at[] or .iat[] accessors instead\n",
      "  del sys.path[0]\n",
      "/Users/nranu/anaconda2/lib/python2.7/site-packages/ipykernel_launcher.py:15: FutureWarning: set_value is deprecated and will be removed in a future release. Please use .at[] or .iat[] accessors instead\n",
      "  from ipykernel import kernelapp as app\n",
      "/Users/nranu/anaconda2/lib/python2.7/site-packages/ipykernel_launcher.py:17: FutureWarning: set_value is deprecated and will be removed in a future release. Please use .at[] or .iat[] accessors instead\n"
     ]
    }
   ],
   "source": [
    "list_a=[0,1,2,3,4,5,6,7,8,9]\n",
    "list_b=[12,13,14,15,16,17,30,31,32,33]\n",
    "list_c=[34,35,37,38,39,40,41,42,43]\n",
    "list_d=[44,45,46,48,49,50,51,52,53]\n",
    "list_e=[54,55,56,58,59,60,61,62,63,64,65,68]\n",
    "\n",
    "list_f2=[4,5,6,7,8,9,12,13,14,15,16,17,30,31,32,33,34,37,38,39,40,41,42,43,44,45,46,47,48,49,50,51,52,53,54,55,56,58,59,60,61,62,63,64,65,68]\n",
    "for a in list_a:\n",
    "    umi_df.set_value(BC[a],'Keep',1)\n",
    "for b in list_b:\n",
    "    umi_df_2.set_value(BC[b],'Keep',1)\n",
    "for c in list_c:\n",
    "    umi_df_3.set_value(BC[c],'Keep',1)\n",
    "for d in list_d:\n",
    "    umi_df_4.set_value(BC[d],'Keep',1)\n",
    "for e in list_e:\n",
    "    umi_df_5.set_value(BC[e],'Keep',1)"
   ]
  },
  {
   "cell_type": "code",
   "execution_count": null,
   "metadata": {
    "collapsed": true
   },
   "outputs": [],
   "source": []
  },
  {
   "cell_type": "code",
   "execution_count": null,
   "metadata": {
    "collapsed": true
   },
   "outputs": [],
   "source": []
  },
  {
   "cell_type": "code",
   "execution_count": 147,
   "metadata": {
    "collapsed": true
   },
   "outputs": [],
   "source": [
    "umi_df['umi']=0\n",
    "umi_df_2['umi']=0\n",
    "umi_df_3['umi']=0\n",
    "umi_df_4['umi']=0\n",
    "umi_df_5['umi']=0"
   ]
  },
  {
   "cell_type": "code",
   "execution_count": 124,
   "metadata": {
    "collapsed": true
   },
   "outputs": [],
   "source": [
    "cumi2=pd.DataFrame(control.bc.value_counts())"
   ]
  },
  {
   "cell_type": "code",
   "execution_count": 148,
   "metadata": {},
   "outputs": [
    {
     "name": "stderr",
     "output_type": "stream",
     "text": [
      "/Users/nranu/anaconda2/lib/python2.7/site-packages/ipykernel_launcher.py:2: FutureWarning: set_value is deprecated and will be removed in a future release. Please use .at[] or .iat[] accessors instead\n",
      "  \n",
      "/Users/nranu/anaconda2/lib/python2.7/site-packages/ipykernel_launcher.py:4: FutureWarning: set_value is deprecated and will be removed in a future release. Please use .at[] or .iat[] accessors instead\n",
      "  after removing the cwd from sys.path.\n",
      "/Users/nranu/anaconda2/lib/python2.7/site-packages/ipykernel_launcher.py:6: FutureWarning: set_value is deprecated and will be removed in a future release. Please use .at[] or .iat[] accessors instead\n",
      "  \n",
      "/Users/nranu/anaconda2/lib/python2.7/site-packages/ipykernel_launcher.py:8: FutureWarning: set_value is deprecated and will be removed in a future release. Please use .at[] or .iat[] accessors instead\n",
      "  \n",
      "/Users/nranu/anaconda2/lib/python2.7/site-packages/ipykernel_launcher.py:10: FutureWarning: set_value is deprecated and will be removed in a future release. Please use .at[] or .iat[] accessors instead\n",
      "  # Remove the CWD from sys.path while we load stuff.\n"
     ]
    }
   ],
   "source": [
    "for index in umi_df.index:\n",
    "    umi_df.set_value(index,'umi',cumi2.loc[index].bc)\n",
    "for index in umi_df_2.index:\n",
    "    umi_df_2.set_value(index,'umi',cumi2.loc[index].bc)\n",
    "for index in umi_df_3.index:\n",
    "    umi_df_3.set_value(index,'umi',cumi2.loc[index].bc)\n",
    "for index in umi_df_4.index:\n",
    "    umi_df_4.set_value(index,'umi',cumi2.loc[index].bc)\n",
    "for index in umi_df_5.index:\n",
    "    umi_df_5.set_value(index,'umi',cumi2.loc[index].bc)"
   ]
  },
  {
   "cell_type": "code",
   "execution_count": null,
   "metadata": {
    "collapsed": true
   },
   "outputs": [],
   "source": []
  },
  {
   "cell_type": "code",
   "execution_count": 181,
   "metadata": {},
   "outputs": [
    {
     "data": {
      "image/png": "[encoded data removed]",
      "text/plain": [
       "<matplotlib.figure.Figure at 0x1a0d425590>"
      ]
     },
     "metadata": {},
     "output_type": "display_data"
    }
   ],
   "source": [
    "fig, ax = plt.subplots(figsize=(4.5,3))\n",
    "sns.set(style='white')\n",
    "sns.set_context(\"talk\")\n",
    "plt.xlabel('Number of UMIs in deeply sequenced pre enrichment library')\n",
    "plt.ylabel('Fold change post/pre UMI counts+1')\n",
    "plt.scatter(umi_df[umi_df.Keep==0]['umi'],umi_df[umi_df.Keep==0]['fold']+1,c='k',s=20)\n",
    "\n",
    "plt.scatter(umi_df[umi_df.Keep==1]['umi'],umi_df[umi_df.Keep==1]['fold']+1,c='r',s=20)\n",
    "plt.scatter(umi_df_2[umi_df_2.Keep==1]['umi'],umi_df_2[umi_df_2.Keep==1]['fold']+1,c='r',s=20)\n",
    "plt.scatter(umi_df_3[umi_df_3.Keep==1]['umi'],umi_df_3[umi_df_3.Keep==1]['fold']+1,c='r',s=20)\n",
    "plt.scatter(umi_df_4[umi_df_4.Keep==1]['umi'],umi_df_4[umi_df_4.Keep==1]['fold']+1,c='r',s=20)\n",
    "plt.scatter(umi_df_5[umi_df_5.Keep==1]['umi'],umi_df_5[umi_df_5.Keep==1]['fold']+1,c='r',s=20)\n",
    "\n",
    "plt.errorbar(umi_df[umi_df.Keep==0]['umi'],umi_df[umi_df.Keep==0]['fold']+1,yerr=umi_df[umi_df.Keep==0]['std'], ecolor='k',linestyle=\"None\",capsize=2.5,lw=1)\n",
    "\n",
    "plt.errorbar(umi_df[umi_df.Keep==1]['umi'],umi_df[umi_df.Keep==1]['fold']+1,yerr=umi_df[umi_df.Keep==1]['std'],ecolor = 'r', linestyle=\"None\",capsize=2.5,)\n",
    "plt.errorbar(umi_df_2[umi_df_2.Keep==1]['umi'],umi_df_2[umi_df_2.Keep==1]['fold']+1,yerr=umi_df_2[umi_df_2.Keep==1]['std'],ecolor = 'r', linestyle=\"None\",capsize=2.5,lw=1)\n",
    "plt.errorbar(umi_df_3[umi_df_3.Keep==1]['umi'],umi_df_3[umi_df_3.Keep==1]['fold']+1,yerr=umi_df_3[umi_df_3.Keep==1]['std'],ecolor = 'r', linestyle=\"None\",capsize=2.5,lw=1)\n",
    "plt.errorbar(umi_df_4[umi_df_4.Keep==1]['umi'],umi_df_4[umi_df_4.Keep==1]['fold']+1,yerr=umi_df_4[umi_df_4.Keep==1]['std'],ecolor = 'r', linestyle=\"None\",capsize=2.5,lw=1)\n",
    "plt.errorbar(umi_df_5[umi_df_5.Keep==1]['umi'],umi_df_5[umi_df_5.Keep==1]['fold']+1,yerr=umi_df_5[umi_df_5.Keep==1]['std'],ecolor = 'r', linestyle=\"None\",capsize=2.5,lw=1)\n",
    "\n",
    "plt.yscale('log')\n",
    "ax.tick_params(axis=u'both', which=u'both',length=2)\n",
    "plt.minorticks_off()\n",
    "#plt.xscale('log')\n",
    "plt.xlim([0,80000])\n",
    "plt.ylim([.5,100])\n",
    "sns.set_context(\"paper\",rc={\"lines.linewidth\": 2,'axes.labelsize': 10,'text.fontsize': 10,'legend.fontsize': 10,\n",
    "   'xtick.labelsize': 10,'ytick.labelsize': 10,'text.usetex': False})\n",
    "fig.tight_layout()\n",
    "plt.savefig('/Volumes/broad_blainey_lab_storage/Nav/temp/Manucript/Figures/FiguresV2/10X structure/HLA_DR_UMI_enrich.pdf',transparent=True)"
   ]
  },
  {
   "cell_type": "code",
   "execution_count": null,
   "metadata": {
    "collapsed": true
   },
   "outputs": [],
   "source": []
  }
 ],
 "metadata": {
  "kernelspec": {
   "display_name": "Python 2",
   "language": "python",
   "name": "python2"
  },
  "language_info": {
   "codemirror_mode": {
    "name": "ipython",
    "version": 2
   },
   "file_extension": ".py",
   "mimetype": "text/x-python",
   "name": "python",
   "nbconvert_exporter": "python",
   "pygments_lexer": "ipython2",
   "version": "2.7.14"
  }
 },
 "nbformat": 4,
 "nbformat_minor": 2
}
