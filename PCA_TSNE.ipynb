{
 "cells": [
  {
   "cell_type": "code",
   "execution_count": 3,
   "metadata": {
    "collapsed": true
   },
   "outputs": [],
   "source": [
    "%matplotlib inline"
   ]
  },
  {
   "cell_type": "code",
   "execution_count": 4,
   "metadata": {},
   "outputs": [
    {
     "name": "stderr",
     "output_type": "stream",
     "text": [
      "/Users/nranu/anaconda2/lib/python2.7/site-packages/statsmodels/compat/pandas.py:56: FutureWarning: The pandas.core.datetools module is deprecated and will be removed in a future version. Please use the pandas.tseries module instead.\n",
      "  from pandas.core import datetools\n"
     ]
    }
   ],
   "source": [
    "import collections\n",
    "import matplotlib\n",
    "import matplotlib.pyplot as plt\n",
    "import numpy as np\n",
    "import pandas as pd\n",
    "import scipy.sparse as sp_sparse\n",
    "import tables\n",
    "from matplotlib.mlab import PCA\n",
    "import sklearn\n",
    "from sklearn import preprocessing\n",
    "from sklearn import decomposition\n",
    "import seaborn as sns\n",
    "from sklearn import manifold\n",
    "from collections import defaultdict\n",
    "import matplotlib.colors as mcolors\n",
    "import matplotlib.cm as cm\n",
    "from scipy.stats import linregress\n",
    "from __future__ import division\n",
    "import statsmodels.api as sm\n",
    "lowess = sm.nonparametric.lowess\n",
    "import matplotlib.gridspec as gridspec"
   ]
  },
  {
   "cell_type": "code",
   "execution_count": 5,
   "metadata": {
    "collapsed": true
   },
   "outputs": [],
   "source": [
    "np.random.seed(0)\n",
    "\n",
    "GeneBCMatrix = collections.namedtuple('GeneBCMatrix', ['gene_ids', 'gene_names', 'barcodes', 'matrix'])\n",
    "\n",
    "def get_matrix_from_h5(filename, genome):\n",
    "    with tables.open_file(filename, 'r') as f:\n",
    "        try:\n",
    "            dsets = {}\n",
    "            for node in f.walk_nodes('/' + genome, 'Array'):\n",
    "                dsets[node.name] = node.read()\n",
    "            matrix = sp_sparse.csc_matrix((dsets['data'], dsets['indices'], dsets['indptr']), shape=dsets['shape'])\n",
    "            return GeneBCMatrix(dsets['genes'], dsets['gene_names'], dsets['barcodes'], matrix)\n",
    "        except tables.NoSuchNodeError:\n",
    "            raise Exception(\"Genome %s does not exist in this file.\" % genome)\n",
    "        except KeyError:\n",
    "            raise Exception(\"File is missing one or more required datasets.\")\n",
    "def Read10x(filepath):   \n",
    "    with tables.open_file(filepath, 'r') as f:\n",
    "        try:\n",
    "            group = f.get_node(f.root)\n",
    "        except tables.NoSuchNodeError:\n",
    "            print \"That genome does not exist in this file.\"\n",
    "        gene_ids = getattr(group, 'gene_ids').read()\n",
    "        gene_names = getattr(group, 'gene_names').read()\n",
    "        gene = getattr(group, 'gene').read()\n",
    "        umi_corrected_reads=getattr(group, 'umi_corrected_reads').read()\n",
    "        nonconf_mapped_reads=getattr(group, 'nonconf_mapped_reads').read()\n",
    "        conf_mapped_uniq_read_pos=getattr(group, 'conf_mapped_uniq_read_pos').read()\n",
    "        unmapped_reads=getattr(group, 'unmapped_reads').read()\n",
    "        barcodes = getattr(group, 'barcode').read()\n",
    "        reads = getattr(group, 'reads').read()\n",
    "        umi = getattr(group, 'umi').read()\n",
    "\n",
    "        TABLE=pd.DataFrame()\n",
    "        TABLE['bc']=barcodes\n",
    "        TABLE['umi']=umi\n",
    "        #TABLE['bcumi']=zip(barcodes,umi)\n",
    "        TABLE['gene']=gene\n",
    "        TABLE['unique']=[1]*len(TABLE)\n",
    "        TABLE['map_logical']=conf_mapped_uniq_read_pos>0\n",
    "        TABLE['read_counts']=reads+nonconf_mapped_reads+unmapped_reads\n",
    "        return TABLE\n",
    "\n",
    "def get_gene(BC,df_1):\n",
    "    Total=df_1.gene[df_1.bc==BC].value_counts().to_frame()\n",
    "    Total.columns=['Counts']\n",
    "    genes1=np.zeros(32739)\n",
    "    for index,rows in Total.iterrows():\n",
    "        genes1[index]=rows['Counts']\n",
    "    return genes1[:-1]\n",
    "def setenv(newDict):\n",
    "    DNA={}\n",
    "    DNA['A']='00'\n",
    "    DNA['C']='01'\n",
    "    DNA['G']='10'\n",
    "    DNA['T']='11'\n",
    "\n",
    "    BC_DNA2={}\n",
    "    for i in newDict.iterkeys(): \n",
    "        string=newDict[i]\n",
    "        for j in DNA.iterkeys():\n",
    "            string=string.replace(j,DNA[j])\n",
    "        BC_DNA2[i]=int(string,2)\n",
    "    return BC_DNA2\n",
    "def hamming_distance(s1, s2):\n",
    "    #Return the Hamming distance between equal-length sequences\n",
    "    if len(s1) != len(s2):\n",
    "        raise ValueError(\"Undefined for sequences of unequal length\")\n",
    "    return sum(ch1 != ch2 for ch1, ch2 in zip(s1, s2))\n",
    "\n"
   ]
  },
  {
   "cell_type": "code",
   "execution_count": null,
   "metadata": {
    "collapsed": true
   },
   "outputs": [],
   "source": []
  },
  {
   "cell_type": "code",
   "execution_count": 32,
   "metadata": {},
   "outputs": [],
   "source": [
    "newDict = {}\n",
    "#insert path to barcode text file\n",
    "with open('/../enriched_barcodes.txt', 'r') as f:\n",
    "    for line in f:\n",
    "        splitLine = line.split(',')\n",
    "        newDict[int(splitLine[0])] = splitLine[1][:-1]\n",
    "BC=setenv(newDict)"
   ]
  },
  {
   "cell_type": "code",
   "execution_count": 33,
   "metadata": {},
   "outputs": [
    {
     "name": "stdout",
     "output_type": "stream",
     "text": [
      "CPU times: user 107 ms, sys: 38.4 ms, total: 145 ms\n",
      "Wall time: 154 ms\n"
     ]
    }
   ],
   "source": [
    "#CD_19, insert gene expression profile path\n",
    "#filtered_matrix_h5='/.../filtered_gene_bc_matrices_h5.h5'\n",
    "\n",
    "#HLA_DR, insert gene expression profile path\n",
    "filtered_matrix_h5='/../filtered_gene_bc_matrices_h5.h5'\n",
    "\n",
    "genome = \"hg19\"\n",
    "\n",
    "#load expression profile\n",
    "%time gene_bc_matrix = get_matrix_from_h5(filtered_matrix_h5, genome)"
   ]
  },
  {
   "cell_type": "code",
   "execution_count": 34,
   "metadata": {
    "collapsed": true
   },
   "outputs": [],
   "source": [
    "gnames=gene_bc_matrix.gene_names\n",
    "cnames=gene_bc_matrix.barcodes\n",
    "DGE=pd.DataFrame(gene_bc_matrix.matrix.toarray())\n",
    "DGE.index=gnames\n",
    "DGE.columns=cnames\n",
    "cumi=DGE.sum()"
   ]
  },
  {
   "cell_type": "code",
   "execution_count": null,
   "metadata": {
    "collapsed": true
   },
   "outputs": [],
   "source": []
  },
  {
   "cell_type": "code",
   "execution_count": 16,
   "metadata": {
    "collapsed": true
   },
   "outputs": [],
   "source": [
    "#HLA_DR\n",
    "list_f2=[4,5,6,7,8,9,12,13,14,15,16,17,30,31,32,33,34,35,37,38,39,40,41,42,43,44,45,46,48,49,50,51,52,53,54,55,56,58,59,60,61,62,63,64,65,68]\n",
    "\n",
    "#CD_19\n",
    "list_g2=[1,2,3,4,5,6,8,15,16,17,18,19,20,21,22,23,24,27,28]\n",
    "\n",
    "#AS_DC\n",
    "list_c=[34,35,37,38,39,40,41,42,43]"
   ]
  },
  {
   "cell_type": "code",
   "execution_count": 47,
   "metadata": {
    "collapsed": true
   },
   "outputs": [],
   "source": [
    "#Chose which list contains the desired barcodes\n",
    "des=defaultdict(int)\n",
    "for item in list_f2:\n",
    "    des[item]=str(item)+'_'+str(BC[item])+'_3'"
   ]
  },
  {
   "cell_type": "code",
   "execution_count": 48,
   "metadata": {
    "collapsed": true
   },
   "outputs": [],
   "source": [
    "#load gene expression profile \n",
    "enrich=pd.read_hdf('/Volumes/broad_blainey_lab_storage/Nav/temp/Manucript/Figures/FiguresV2/Data/Gene_expression/HLA_DR_Gene_expression_matrix.h5',key='10X')"
   ]
  },
  {
   "cell_type": "code",
   "execution_count": 49,
   "metadata": {
    "collapsed": true
   },
   "outputs": [],
   "source": [
    "en=enrich[des.values()]\n",
    "en.index=gnames"
   ]
  },
  {
   "cell_type": "code",
   "execution_count": 51,
   "metadata": {
    "collapsed": true
   },
   "outputs": [],
   "source": [
    "DGE=pd.DataFrame(gene_bc_matrix.matrix.toarray())\n",
    "DGE.index=gnames\n",
    "DGE.columns=cnames\n",
    "DGE=pd.concat([DGE.T,en.T])\n",
    "DGE=DGE.T"
   ]
  },
  {
   "cell_type": "code",
   "execution_count": 52,
   "metadata": {
    "collapsed": true
   },
   "outputs": [],
   "source": [
    "#PCA\n",
    "cumi=DGE.sum()\n",
    "DGE_0=(DGE>0).copy()\n",
    "gmedian=DGE.sum().median()\n",
    "#normalize data to UMI median \n",
    "DGE_tpmedian=(gmedian * (DGE / cumi))\n",
    "#log2 transform\n",
    "DGE_ltpm=np.log2(DGE_tpmedian+1)\n",
    "\n",
    "#Chose genes that are expressed in greater than 3 cells\n",
    "DGE_ltpm0=DGE_ltpm[((DGE>0).sum(axis=1)>3)]\n",
    "\n",
    "#Lowess regression on the mean expression vs the standard deviation of each gene\n",
    "gmeans=DGE_ltpm0.mean(axis=1)\n",
    "gstd=DGE_ltpm0.std(axis=1)\n",
    "\n",
    "w=pd.DataFrame(lowess(gstd, gmeans, frac=.33))\n",
    "w.index=gstd.index\n",
    "\n",
    "#Threshold on variation to get ~1000 variable genes\n",
    "DGE_ltpmvar=DGE_ltpm0[gstd>w[1]+.4]\n",
    "\n",
    "#Z score the data\n",
    "DGEZ=pd.DataFrame(sklearn.preprocessing.scale(DGE_ltpmvar,axis=1))\n",
    "DGEZ.index=DGE_ltpmvar.index\n",
    "DGEZ.columns=DGE.columns\n",
    "pca=sklearn.decomposition.PCA(n_components=20)\n",
    "    \n",
    "#PCA\n",
    "pca.fit(DGEZ[cnames])\n",
    "U=pd.DataFrame(pca.fit_transform(DGEZ[cnames]))\n",
    "S=pca.explained_variance_\n",
    "V=pd.DataFrame(pca.components_).T\n",
    "V.index=DGE[cnames].columns\n",
    "U.index=DGEZ.index"
   ]
  },
  {
   "cell_type": "code",
   "execution_count": null,
   "metadata": {
    "collapsed": true
   },
   "outputs": [],
   "source": []
  },
  {
   "cell_type": "code",
   "execution_count": 54,
   "metadata": {
    "collapsed": true
   },
   "outputs": [],
   "source": [
    "DGE_t=DGEZ[cnames].copy().T\n",
    "V_train=pd.DataFrame()\n",
    "for i in range(np.shape(U)[1]):\n",
    "    V_train[i]=DGE_t.dot(U[i])"
   ]
  },
  {
   "cell_type": "code",
   "execution_count": 55,
   "metadata": {
    "collapsed": true
   },
   "outputs": [],
   "source": [
    "#project enriched data on to the PCs defined above\n",
    "DGE_t=DGEZ[des.values()].T\n",
    "V_test=pd.DataFrame()\n",
    "for i in range(np.shape(U)[1]):\n",
    "    V_test[i]=DGE_t.dot(U[i])"
   ]
  },
  {
   "cell_type": "code",
   "execution_count": 56,
   "metadata": {
    "collapsed": true
   },
   "outputs": [],
   "source": [
    "V_test['bc']=[newDict[int(x.split('_')[0])] for x in V_test.index]\n",
    "V_train['bc']=[x.split('-')[0] for x in V_train.index]"
   ]
  },
  {
   "cell_type": "code",
   "execution_count": 35,
   "metadata": {
    "collapsed": true
   },
   "outputs": [],
   "source": [
    "Final=pd.concat([V_train,V_test])"
   ]
  },
  {
   "cell_type": "code",
   "execution_count": 36,
   "metadata": {
    "collapsed": true
   },
   "outputs": [],
   "source": [
    "#Save data\n",
    "#V_test.to_hdf('/Volumes/broad_blainey_lab_storage/Nav/temp/Manucript/Figures/FiguresV2/Data/PCA/HLA_DR_test.h5',key='10X')"
   ]
  },
  {
   "cell_type": "code",
   "execution_count": 37,
   "metadata": {
    "collapsed": true
   },
   "outputs": [],
   "source": [
    "#Find the euclidean distance shift of cells pre and post enrichment in the top 5 PCs\n",
    "vdist=pd.DataFrame(sklearn.metrics.pairwise.euclidean_distances(Final[range(6)]))\n",
    "vdist.columns=Final.index\n",
    "vdist.index=Final.index\n",
    "hist=vdist.values.flatten()"
   ]
  },
  {
   "cell_type": "code",
   "execution_count": 38,
   "metadata": {},
   "outputs": [],
   "source": [
    "#make a dataframe of cell barcode, distance shifted, and UMI count\n",
    "dist_u=defaultdict(int)\n",
    "cumi=DGE.sum()\n",
    "for BC_ in list_f2:\n",
    "    barcode=newDict[BC_]\n",
    "    barcode2=BC[BC_]\n",
    "    dist_u[str(BC_)+'_'+barcode]=[vdist.loc[barcode+'-1'][str(BC_)+'_'+str(barcode2)+'_3'], cumi.loc[barcode+'-1']]\n",
    "d=pd.DataFrame.from_dict(dist_u,orient='index')\n",
    "d.columns=['distance','Umi']"
   ]
  },
  {
   "cell_type": "code",
   "execution_count": 39,
   "metadata": {},
   "outputs": [
    {
     "data": {
      "text/plain": [
       "Text(0.5,1,u'$\\\\mathdefault{HLA-DR^{+} cells}$')"
      ]
     },
     "execution_count": 39,
     "metadata": {},
     "output_type": "execute_result"
    },
    {
     "data": {
      "image/png": "[encoded data removed]",
      "text/plain": [
       "<matplotlib.figure.Figure at 0x1c236ef3d0>"
      ]
     },
     "metadata": {},
     "output_type": "display_data"
    }
   ],
   "source": [
    "#plotting code\n",
    "sns.set(style='white')\n",
    "sns.set_context(\"talk\")\n",
    "\n",
    "fig,ax=plt.subplots(figsize=(7,3))\n",
    "y,binEdges=np.histogram(hist[hist>0],bins=1000)\n",
    "bincenters = 0.5*(binEdges[1:]+binEdges[:-1])\n",
    "plt.plot(bincenters,y,'-',c='#D3D3D3')\n",
    "\n",
    "normalize = mcolors.Normalize(vmin=d['Umi'].min(), vmax=d['Umi'].max())\n",
    "colormap = cm.YlOrRd\n",
    "scalarmappaple = cm.ScalarMappable(norm=normalize, cmap=colormap)\n",
    "scalarmappaple.set_array(d['Umi'])\n",
    "\n",
    "\n",
    "d_counts=np.interp(d.distance.values,bincenters,y)\n",
    "fu=[scalarmappaple.to_rgba(x) for x in d.Umi]\n",
    "plt.scatter(d.distance.values,d_counts,s=30,c=fu,cmap='YlOrRd')\n",
    "#plt.ylim([0,35000])\n",
    "\n",
    "# Drawing the side color bar\n",
    "\n",
    "\n",
    "\n",
    "for n in d['Umi']:\n",
    "    plt.plot(color=colormap(normalize(n)))\n",
    "\n",
    "scalarmappaple = cm.ScalarMappable(norm=normalize, cmap=colormap)\n",
    "scalarmappaple.set_array(d['Umi'])\n",
    "cbar=plt.colorbar(scalarmappaple)\n",
    "plt.xlabel('Euclidean Distance in PC space')\n",
    "plt.ylabel('Counts')\n",
    "#plt.xscale('log')\n",
    "cbar.ax.set_ylabel('Umis', rotation=270,labelpad=25)\n",
    "ax.tick_params(axis=u'both', which=u'both',length=2)\n",
    "plt.minorticks_off()\n",
    "sns.set_context(\"paper\",rc={\"lines.linewidth\": 2,'axes.labelsize': 10,'text.fontsize': 10,'legend.fontsize': 10,\n",
    "   'xtick.labelsize': 10,'ytick.labelsize': 10,'text.usetex': False})\n",
    "\n",
    "plt.title('$\\mathdefault{HLA-DR^{+} cells}$')"
   ]
  },
  {
   "cell_type": "code",
   "execution_count": 416,
   "metadata": {
    "collapsed": true
   },
   "outputs": [],
   "source": [
    "#TSNE\n",
    "pca.fit(DGEZ)\n",
    "U2=pd.DataFrame(pca.fit_transform(DGEZ))\n",
    "S2=pca.explained_variance_\n",
    "V2=pd.DataFrame(pca.components_).T\n",
    "V2.index=DGE.columns\n",
    "U2.index=DGEZ.index"
   ]
  },
  {
   "cell_type": "code",
   "execution_count": 417,
   "metadata": {
    "collapsed": true
   },
   "outputs": [],
   "source": [
    "#TSNE with top 6 components\n",
    "model=sklearn.manifold.TSNE(n_components=2,perplexity=10,init='pca')\n",
    "T_sne=pd.DataFrame(model.fit_transform(V2[range(6)]))\n",
    "T_sne.columns=['T1','T2']\n",
    "T_sne.index=V2.index"
   ]
  },
  {
   "cell_type": "code",
   "execution_count": 418,
   "metadata": {
    "collapsed": true
   },
   "outputs": [],
   "source": [
    "#Save data\n",
    "#T_sne.to_hdf('/Volumes/broad_blainey_lab_storage/Nav/temp/Manucript/Figures/FiguresV2/Data/TSNE/YY.h5',key='10X')"
   ]
  },
  {
   "cell_type": "code",
   "execution_count": 20,
   "metadata": {
    "collapsed": true
   },
   "outputs": [],
   "source": [
    "#load library specific Data\n",
    "V_train=pd.read_hdf('/Volumes/broad_blainey_lab_storage/Nav/temp/Manucript/Figures/FiguresV2/Data/PCA/CD_19_train.h5',key='10X')\n",
    "V_test=pd.read_hdf('/Volumes/broad_blainey_lab_storage/Nav/temp/Manucript/Figures/FiguresV2/Data/PCA/CD_19_test.h5',key='10X')"
   ]
  },
  {
   "cell_type": "code",
   "execution_count": 9,
   "metadata": {
    "collapsed": true
   },
   "outputs": [],
   "source": [
    "#load library specific Data\n",
    "T_sne=pd.read_hdf('/Volumes/broad_blainey_lab_storage/Nav/temp/Manucript/Figures/FiguresV2/Data/TSNE/HLA_DR.h5',key='10X')"
   ]
  },
  {
   "cell_type": "code",
   "execution_count": null,
   "metadata": {
    "collapsed": true
   },
   "outputs": [],
   "source": []
  },
  {
   "cell_type": "code",
   "execution_count": 31,
   "metadata": {},
   "outputs": [
    {
     "name": "stderr",
     "output_type": "stream",
     "text": [
      "/Users/nranu/anaconda2/lib/python2.7/site-packages/ipykernel_launcher.py:160: FutureWarning: \n",
      "Passing list-likes to .loc or [] with any missing label will raise\n",
      "KeyError in the future, you can use .reindex() as an alternative.\n",
      "\n",
      "See the documentation here:\n",
      "http://pandas.pydata.org/pandas-docs/stable/indexing.html#deprecate-loc-reindex-listlike\n"
     ]
    },
    {
     "data": {
      "text/plain": [
       "(-110, 110)"
      ]
     },
     "execution_count": 31,
     "metadata": {},
     "output_type": "execute_result"
    },
    {
     "data": {
      "image/png": "[encoded data removed]",
      "text/plain": [
       "<matplotlib.figure.Figure at 0x1c22a94d10>"
      ]
     },
     "metadata": {},
     "output_type": "display_data"
    }
   ],
   "source": [
    "#plotting code\n",
    "fig,ax=plt.subplots(figsize=(10,5))#2.5,2.5\n",
    "\n",
    "\n",
    "sns.set(style='white')\n",
    "sns.set_context(\"paper\",rc={\"lines.linewidth\": 2,'axes.labelsize': 10,'text.fontsize': 10,'legend.fontsize': 10,\n",
    "   'xtick.labelsize': 10,'ytick.labelsize': 10,'text.usetex': False})\n",
    "colors=['#000000','#800000','#FF0000','#AA6E28','#FF9900','#808000','#FFEA00','#BEFF00','#00BE00','#008080','#64FFFF','#000080','#4385FF','#820096','#FF00FF',\"#e07b91\", \"#d33f6a\", \"#11c638\", \"#8dd593\", \"#c6dec7\", \"#ead3c6\", \"#f0b98d\", \"#ef9708\", \"#0fcfc0\",\"#483d8b\",\"#ffa500\",\"#ba55d3\",'#000000','#800000','#FF0000','#AA6E28','#FF9900','#808000','#FFEA00','#BEFF00','#00BE00','#008080','#64FFFF','#000080','#4385FF','#820096','#FF00FF',\"#e07b91\", \"#d33f6a\", \"#11c638\", \"#8dd593\", \"#c6dec7\", \"#ead3c6\", \"#f0b98d\", \"#ef9708\", \"#0fcfc0\",\"#483d8b\",\"#ffa500\",\"#ba55d3\"]\n",
    "#######################################################################################################################\n",
    "\n",
    "\n",
    "V_train=pd.read_hdf('/Volumes/broad_blainey_lab_storage/Nav/temp/Manucript/Figures/FiguresV2/Data/PCA/CD_19_train.h5',key='10X')\n",
    "V_test=pd.read_hdf('/Volumes/broad_blainey_lab_storage/Nav/temp/Manucript/Figures/FiguresV2/Data/PCA/CD_19_test.h5',key='10X')\n",
    "\n",
    "newDict = {}\n",
    "with open('/Volumes/broad_blainey_lab_storage/Nav/temp/SC_enrichment/CD_19_barcodes.txt', 'r') as f:\n",
    "    for line in f:\n",
    "        splitLine = line.split(',')\n",
    "        newDict[int(splitLine[0])] = splitLine[1][:-1]\n",
    "BC=setenv(newDict)\n",
    "\n",
    "gs1 = gridspec.GridSpec(2, 2)\n",
    "gs1.update(left=0.05, right=0.25,top=.95,bottom=0, wspace=0.25,hspace=0.4)\n",
    "ax1 = plt.subplot(gs1[0, :])\n",
    "#ax1.text(-.3,1,'A',fontsize=15,weight=\"bold\")\n",
    "temp=V_train\n",
    "temp1_=V_test\n",
    "temp1_['filter']=[int(x.split('_')[2]) for x in temp1_.index]\n",
    "temp1_['filter']=[int(x.split('_')[2]) for x in temp1_.index]\n",
    "temp1=temp1_[temp1_['filter']==3]\n",
    "\n",
    "var=[1]\n",
    "col='#D3D3D3'\n",
    "bc=temp1.bc.values\n",
    "s1=5\n",
    "s2=5\n",
    "\n",
    "for i in range(0,len(var)):\n",
    "    g=0 \n",
    "    plt.scatter(temp[var[i]],temp[0],c=col,s=s1)\n",
    "    for z in list_g2:\n",
    "        string1=newDict[z]\n",
    "        x1=temp.loc[string1+'-1'][var[i]]\n",
    "        x2=temp1[var[i]][temp1.bc==string1]\n",
    "        y1=temp.loc[string1+'-1'][0]\n",
    "        y2=temp1[0][temp1.bc==string1]\n",
    "        plt.scatter(x1,y1,c=colors[g],s=s2)\n",
    "        plt.scatter(x2,y2,facecolors='none', edgecolors=colors[g],linewidth=.25,s=s2)\n",
    "        plt.plot([x1,x2],[y1,y2],colors[g],ls='dashed',dashes=[.5, .5, .5, .5],lw=.25)\n",
    "        g+=1\n",
    "        plt.ylabel('Principal Component 1',fontsize=10)\n",
    "        plt.xlabel('Principal Component 2',fontsize=10)\n",
    "\n",
    "ax1.tick_params(axis=u'both', which=u'both',length=2)\n",
    "ax1.annotate('a', size=16,weight=\"bold\", xy=(-65, 150),xycoords='axes points')\n",
    "plt.ylim([-10000,5000])\n",
    "plt.xlim([-3500,3000])\n",
    "plt.title('$\\mathdefault{CD19^{+} cells}$')\n",
    "\n",
    "#######################################################################################################################\n",
    "\n",
    "ax2 = plt.subplot(gs1[-1, :])\n",
    "\n",
    "T_sne=pd.read_hdf('/Volumes/broad_blainey_lab_storage/Nav/temp/Manucript/Figures/FiguresV2/Data/TSNE/CD_19.h5',key='10X')\n",
    "\n",
    "temp=T_sne.loc[V_train.index]\n",
    "temp1_=T_sne.loc[V_test.index]\n",
    "temp1_['bc']=[newDict[int(x.split('_')[0])] for x in temp1_.index]\n",
    "temp1_['filter']=[int(x.split('_')[2]) for x in temp1_.index]\n",
    "temp1_['filter']=[int(x.split('_')[2]) for x in temp1_.index]\n",
    "temp1=temp1_[temp1_['filter']==3]\n",
    "var=[1]\n",
    "bc=temp1.bc.values\n",
    "s1=5\n",
    "s2=5\n",
    "\n",
    "for i in range(0,len(var)):\n",
    "    g=0\n",
    "    plt.scatter(temp['T1'],temp['T2'],c=col,s=s1)    \n",
    "    for z in list_g2:\n",
    "        string1=newDict[z]\n",
    "        x1=temp.loc[string1+'-1']['T1']\n",
    "        x2=temp1['T1'][temp1.bc==string1]\n",
    "        y1=temp.loc[string1+'-1']['T2']\n",
    "        y2=temp1['T2'][temp1.bc==string1]\n",
    "        plt.scatter(x1,y1,c=colors[g],s=s2)\n",
    "        plt.scatter(x2,y2,facecolors='none', edgecolors=colors[g],linewidth=1,s=s2)\n",
    "        plt.plot([x1,x2],[y1,y2],colors[g],ls='dashed',dashes=[.5, .5, .5, .5],lw=.5)\n",
    "        g+=1\n",
    "plt.ylabel('t-SNE 1',fontsize=10)\n",
    "plt.xlabel('t-SNE 2',fontsize=10)\n",
    "\n",
    "ax2.tick_params(axis=u'both', which=u'both',length=2)\n",
    "plt.minorticks_off()\n",
    "#plt.ylim([-11000,4000])\n",
    "plt.xlim([-110,110])\n",
    "\n",
    "\n",
    "#######################################################################################################################\n",
    "\n",
    "gs2 = gridspec.GridSpec(2, 2)\n",
    "gs2.update(left=0.375, right=0.575, top=.95,bottom=0,wspace=0.25,hspace=0.4)\n",
    "\n",
    "\n",
    "ax3 = plt.subplot(gs2[0, :])\n",
    "V_train=pd.read_hdf('/Volumes/broad_blainey_lab_storage/Nav/temp/Manucript/Figures/FiguresV2/Data/PCA/HLA_DR_train.h5',key='10X')\n",
    "V_test=pd.read_hdf('/Volumes/broad_blainey_lab_storage/Nav/temp/Manucript/Figures/FiguresV2/Data/PCA/HLA_DR_test.h5',key='10X')\n",
    "\n",
    "newDict = {}\n",
    "with open('/Volumes/broad_blainey_lab_storage/Nav/temp/SC_enrichment/enriched_barcodes.txt', 'r') as f:\n",
    "    for line in f:\n",
    "        splitLine = line.split(',')\n",
    "        newDict[int(splitLine[0])] = splitLine[1][:-1]\n",
    "BC=setenv(newDict)\n",
    "\n",
    "#ax1.text(-.3,1,'A',fontsize=15,weight=\"bold\")\n",
    "temp=V_train\n",
    "temp1_=V_test\n",
    "temp1_['filter']=[int(x.split('_')[2]) for x in temp1_.index]\n",
    "temp1_['filter']=[int(x.split('_')[2]) for x in temp1_.index]\n",
    "temp1=temp1_[temp1_['filter']==3]\n",
    "\n",
    "col='#D3D3D3'\n",
    "col2='r'\n",
    "col3='b'\n",
    "bc=temp1.bc.values\n",
    "s1=5\n",
    "s2=5\n",
    "\n",
    "for i in range(0,len(var)):\n",
    "    g=0 \n",
    "    plt.scatter(temp[var[i]],temp[0],c=col,s=s1)\n",
    "    for z in list_f2:\n",
    "        string1=newDict[z]\n",
    "        x1=temp.loc[string1+'-1'][var[i]]\n",
    "        x2=temp1[var[i]][temp1.bc==string1]\n",
    "        y1=temp.loc[string1+'-1'][0]\n",
    "        y2=temp1[0][temp1.bc==string1]\n",
    "        plt.scatter(x1,y1,c=colors[g],s=s2)\n",
    "        plt.scatter(x2,y2,facecolors='none', edgecolors=colors[g],linewidth=.25,s=s2)\n",
    "        plt.plot([x1,x2],[y1,y2],colors[g],ls='dashed',dashes=[.5, .5, .5, .5],lw=.25)\n",
    "        g+=1\n",
    "        plt.ylabel('Principal Component 1',fontsize=10)\n",
    "        plt.xlabel('Principal Component 2',fontsize=10)\n",
    "\n",
    "ax3.tick_params(axis=u'both', which=u'both',length=2)\n",
    "ax3.annotate('b', size=16,weight=\"bold\", xy=(-65, 150),xycoords='axes points')\n",
    "ax3.annotate('c', size=16,weight=\"bold\", xy=(160, 150),xycoords='axes points')\n",
    "plt.ylim([-5000,7000])\n",
    "plt.xlim([-15000,6000])\n",
    "plt.xticks([-10000,0,5000],[-10000,0,5000])\n",
    "plt.title('$\\mathdefault{HLA-DR^{+} cells}$')\n",
    "\n",
    "#######################################################################################################################\n",
    "\n",
    "ax4 = plt.subplot(gs2[-1, :])\n",
    "T_sne=pd.read_hdf('/Volumes/broad_blainey_lab_storage/Nav/temp/Manucript/Figures/FiguresV2/Data/TSNE/HLA_DR.h5',key='10X')\n",
    "\n",
    "temp=T_sne.loc[V_train.index]\n",
    "temp1_=T_sne.loc[V_test.index]\n",
    "temp1_['bc']=[newDict[int(x.split('_')[0])] for x in temp1_.index]\n",
    "temp1_['filter']=[int(x.split('_')[2]) for x in temp1_.index]\n",
    "temp1_['filter']=[int(x.split('_')[2]) for x in temp1_.index]\n",
    "temp1=temp1_[temp1_['filter']==3]\n",
    "\n",
    "bc=temp1.bc.values\n",
    "s1=5\n",
    "s2=5\n",
    "\n",
    "for i in range(0,len(var)):\n",
    "    g=0\n",
    "    plt.scatter(temp['T1'],temp['T2'],c=col,s=s1) \n",
    "    for z in list_f2:\n",
    "        string1=newDict[z]\n",
    "        x1=temp.loc[string1+'-1']['T1']\n",
    "        x2=temp1['T1'][temp1.bc==string1]\n",
    "        y1=temp.loc[string1+'-1']['T2']\n",
    "        y2=temp1['T2'][temp1.bc==string1]\n",
    "        plt.scatter(x1,y1,c=colors[g],s=s2)\n",
    "        plt.scatter(x2,y2,facecolors='none', edgecolors=colors[g],linewidth=1,s=s2)\n",
    "        plt.plot([x1,x2],[y1,y2],colors[g],ls='dashed',dashes=[.5, .5, .5, .5],lw=.5)\n",
    "        g+=1\n",
    "plt.ylabel('t-SNE 1',fontsize=10)\n",
    "plt.xlabel('t-SNE 2',fontsize=10)\n",
    "\n",
    "ax4.tick_params(axis=u'both', which=u'both',length=2)\n",
    "plt.minorticks_off()\n",
    "#plt.ylim([-11000,4000])\n",
    "plt.xlim([-110,110])"
   ]
  },
  {
   "cell_type": "code",
   "execution_count": null,
   "metadata": {},
   "outputs": [],
   "source": []
  },
  {
   "cell_type": "code",
   "execution_count": null,
   "metadata": {
    "collapsed": true
   },
   "outputs": [],
   "source": []
  }
 ],
 "metadata": {
  "kernelspec": {
   "display_name": "Python 2",
   "language": "python",
   "name": "python2"
  },
  "language_info": {
   "codemirror_mode": {
    "name": "ipython",
    "version": 2
   },
   "file_extension": ".py",
   "mimetype": "text/x-python",
   "name": "python",
   "nbconvert_exporter": "python",
   "pygments_lexer": "ipython2",
   "version": "2.7.14"
  }
 },
 "nbformat": 4,
 "nbformat_minor": 2
}
