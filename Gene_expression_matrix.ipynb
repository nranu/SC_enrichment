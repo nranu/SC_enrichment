{
 "cells": [
  {
   "cell_type": "code",
   "execution_count": 1,
   "metadata": {
    "collapsed": true
   },
   "outputs": [],
   "source": [
    "%matplotlib inline"
   ]
  },
  {
   "cell_type": "code",
   "execution_count": 2,
   "metadata": {
    "collapsed": true
   },
   "outputs": [],
   "source": [
    "import collections\n",
    "import matplotlib\n",
    "import matplotlib.pyplot as plt\n",
    "import numpy as np\n",
    "import pandas as pd\n",
    "import scipy.sparse as sp_sparse\n",
    "import tables\n",
    "from matplotlib.mlab import PCA\n",
    "import seaborn as sns\n",
    "import tqdm"
   ]
  },
  {
   "cell_type": "code",
   "execution_count": 3,
   "metadata": {
    "collapsed": true
   },
   "outputs": [],
   "source": [
    "np.random.seed(0)\n",
    "\n",
    "GeneBCMatrix = collections.namedtuple('GeneBCMatrix', ['gene_ids', 'gene_names', 'barcodes', 'matrix'])\n",
    "\n",
    "def get_matrix_from_h5(filename, genome):\n",
    "    with tables.open_file(filename, 'r') as f:\n",
    "        try:\n",
    "            dsets = {}\n",
    "            for node in f.walk_nodes('/' + genome, 'Array'):\n",
    "                dsets[node.name] = node.read()\n",
    "            matrix = sp_sparse.csc_matrix((dsets['data'], dsets['indices'], dsets['indptr']), shape=dsets['shape'])\n",
    "            return GeneBCMatrix(dsets['genes'], dsets['gene_names'], dsets['barcodes'], matrix)\n",
    "        except tables.NoSuchNodeError:\n",
    "            raise Exception(\"Genome %s does not exist in this file.\" % genome)\n",
    "        except KeyError:\n",
    "            raise Exception(\"File is missing one or more required datasets.\")\n",
    "def Read10x(filepath):   \n",
    "    with tables.open_file(filepath, 'r') as f:\n",
    "        try:\n",
    "            group = f.get_node(f.root)\n",
    "        except tables.NoSuchNodeError:\n",
    "            print \"That genome does not exist in this file.\"\n",
    "        gene_ids = getattr(group, 'gene_ids').read()\n",
    "        gene_names = getattr(group, 'gene_names').read()\n",
    "        gene = getattr(group, 'gene').read()\n",
    "        umi_corrected_reads=getattr(group, 'umi_corrected_reads').read()\n",
    "        nonconf_mapped_reads=getattr(group, 'nonconf_mapped_reads').read()\n",
    "        conf_mapped_uniq_read_pos=getattr(group, 'conf_mapped_uniq_read_pos').read()\n",
    "        unmapped_reads=getattr(group, 'unmapped_reads').read()\n",
    "        barcodes = getattr(group, 'barcode').read()\n",
    "        reads = getattr(group, 'reads').read()\n",
    "        umi = getattr(group, 'umi').read()\n",
    "\n",
    "        TABLE=pd.DataFrame()\n",
    "        TABLE['bc']=barcodes\n",
    "        TABLE['umi']=umi\n",
    "        #TABLE['bcumi']=zip(barcodes,umi)\n",
    "        TABLE['gene']=gene\n",
    "        TABLE['unique']=[1]*len(TABLE)\n",
    "        TABLE['map_logical']=conf_mapped_uniq_read_pos>0\n",
    "        TABLE['read_counts']=reads+nonconf_mapped_reads+unmapped_reads\n",
    "        return TABLE\n",
    "\n",
    "def get_gene(BC,df_1):\n",
    "    Total=df_1.gene[df_1.bc==BC].value_counts().to_frame()\n",
    "    Total.columns=['Counts']\n",
    "    genes1=np.zeros(32739)\n",
    "    for index,rows in Total.iterrows():\n",
    "        genes1[index]=rows['Counts']\n",
    "    return genes1[:-1]\n",
    "def setenv(newDict):\n",
    "    DNA={}\n",
    "    DNA['A']='00'\n",
    "    DNA['C']='01'\n",
    "    DNA['G']='10'\n",
    "    DNA['T']='11'\n",
    "\n",
    "    BC_DNA2={}\n",
    "    for i in newDict.iterkeys(): \n",
    "        string=newDict[i]\n",
    "        for j in DNA.iterkeys():\n",
    "            string=string.replace(j,DNA[j])\n",
    "        BC_DNA2[i]=int(string,2)\n",
    "    return BC_DNA2\n",
    "\n",
    "def Expanded_dataframe(tot3):\n",
    "    tot3=tot3.reset_index()\n",
    "    temp_tot=defaultdict()\n",
    "    counter=0\n",
    "    for item in tot3.index:\n",
    "        counter1=0\n",
    "        number=tot3.loc[item]['Total_reads']\n",
    "        while counter1<number:\n",
    "            temp_tot[counter]=tot3.loc[item].values\n",
    "            counter+=1\n",
    "            counter1+=1\n",
    "    temp_tot2=pd.DataFrame.from_dict(temp_tot)\n",
    "    temp_tot2=temp_tot2.T\n",
    "    temp_tot2.columns=tot3.columns\n",
    "    return temp_tot2\n",
    "\n",
    "\n",
    "def get_DGE(NR_tot,list_a,boot,Std,BC,reads):\n",
    "    t=NR_tot.copy()\n",
    "    t['bcumig']=zip(t.bc,t.umi,t.gene)\n",
    "    BCUMI_group=t.groupby('bcumig').sum()\n",
    "    BCUMI_group=pd.DataFrame(BCUMI_group[['unique','read_counts']])\n",
    "    BCUMI_group.columns=['Number','Total_reads']\n",
    "    BCUMI_group['BCUMIG']=BCUMI_group.index\n",
    "    Tot=BCUMI_group[['Number','Total_reads','BCUMIG']]\n",
    "\n",
    "    Tot['bc']=[x for x,y,z in Tot.BCUMIG]\n",
    "    Tot['umi']=[y for x,y,z in Tot.BCUMIG]\n",
    "    Tot['gene']=[z for x,y,z in Tot.BCUMIG]\n",
    "    \n",
    "    \n",
    "    \n",
    "    for item in tqdm.tqdm_notebook(list_a,desc='0th loop'):\n",
    "        barcode=BC[item] \n",
    "        temp_sample1_1=Expanded_dataframe(Tot[Tot.bc==barcode])\n",
    "        if reads[barcode]<Tot[Tot.bc==barcode].Total_reads.sum():\n",
    "            a=reads[barcode]\n",
    "            down=True\n",
    "        elif reads[barcode]>Tot[Tot.bc==barcode].Total_reads.sum():\n",
    "            down=False\n",
    "        if item==17:#PH_23,4\n",
    "            down=False\n",
    "        temp_1=temp_sample1_1[temp_sample1_1.Total_reads>0]\n",
    "        temp_2=temp_sample1_1[temp_sample1_1.Total_reads>1]\n",
    "        temp_3=temp_sample1_1[temp_sample1_1.Total_reads>2]\n",
    "\n",
    "        boot1=defaultdict(int)\n",
    "        boot2=defaultdict(int)\n",
    "        boot3=defaultdict(int)\n",
    "        #set bootstrapping number below (in the range command)\n",
    "        for bootstrap in tqdm.tqdm_notebook(range(100),desc='1st loop',leave=False):\n",
    "            if down==True:\n",
    "                temp_sample1=temp_1.sample(a)\n",
    "                temp_sample2=temp_2.sample(a)\n",
    "                temp_sample3=temp_3.sample(a)\n",
    "            elif down==False:\n",
    "                temp_sample1=temp_1.copy()\n",
    "                temp_sample2=temp_2.copy()\n",
    "                temp_sample3=temp_3.copy()\n",
    "\n",
    "            temp_sample1=temp_sample1.drop_duplicates()\n",
    "            temp_sample2=temp_sample2.drop_duplicates()\n",
    "            temp_sample3=temp_sample3.drop_duplicates()\n",
    "\n",
    "\n",
    "\n",
    "            temps=temp_sample1.gene.value_counts().to_frame()\n",
    "            temps.columns=['Counts']\n",
    "            genes1=np.zeros(32739)\n",
    "            for index,rows in temps.iterrows():\n",
    "                genes1[index]=rows['Counts']\n",
    "            genes1=genes1[:-1]\n",
    "\n",
    "            temps=temp_sample2.gene.value_counts().to_frame()\n",
    "            temps.columns=['Counts']\n",
    "            genes2=np.zeros(32739)\n",
    "            for index,rows in temps.iterrows():\n",
    "                genes2[index]=rows['Counts']\n",
    "            genes2=genes2[:-1]\n",
    "\n",
    "            temps=temp_sample3.gene.value_counts().to_frame()\n",
    "            temps.columns=['Counts']\n",
    "            genes3=np.zeros(32739)\n",
    "            for index,rows in temps.iterrows():\n",
    "                genes3[index]=rows['Counts']\n",
    "            genes3=genes3[:-1]\n",
    "\n",
    "            boot1[str(item)+'_'+str(barcode)+'_'+str(bootstrap)]=genes1\n",
    "            boot2[str(item)+'_'+str(barcode)+'_'+str(bootstrap)]=genes2\n",
    "            boot3[str(item)+'_'+str(barcode)+'_'+str(bootstrap)]=genes3\n",
    "            \n",
    "\n",
    "        b_temp1=pd.DataFrame.from_dict(boot1,orient='index')\n",
    "        b_temp2=pd.DataFrame.from_dict(boot2,orient='index')\n",
    "        b_temp3=pd.DataFrame.from_dict(boot3,orient='index')\n",
    "\n",
    "        boot[str(item)+'_'+str(barcode)+'_1']=b_temp1.mean(axis=0)\n",
    "        boot[str(item)+'_'+str(barcode)+'_2']=b_temp2.mean(axis=0)\n",
    "        boot[str(item)+'_'+str(barcode)+'_3']=b_temp3.mean(axis=0)\n",
    "\n",
    "        Std[str(item)+'_'+str(barcode)+'_1']=b_temp1.std(axis=0)\n",
    "        Std[str(item)+'_'+str(barcode)+'_2']=b_temp2.std(axis=0)\n",
    "        Std[str(item)+'_'+str(barcode)+'_3']=b_temp3.std(axis=0)\n",
    "        \n",
    "    return boot,Std"
   ]
  },
  {
   "cell_type": "code",
   "execution_count": 4,
   "metadata": {
    "collapsed": true
   },
   "outputs": [],
   "source": [
    "#insert path to non enriched deep sequencing molecule info H5 file from 10X pipeline\n",
    "c_path='/../molecule_info.h5'\n",
    "control=Read10x(c_path)"
   ]
  },
  {
   "cell_type": "code",
   "execution_count": 5,
   "metadata": {
    "collapsed": true
   },
   "outputs": [],
   "source": [
    "newDict = {}\n",
    "#insert path to barcode text file\n",
    "with open('/../enriched_barcodes.txt', 'r') as f:\n",
    "    for line in f:\n",
    "        splitLine = line.split(',')\n",
    "        newDict[int(splitLine[0])] = splitLine[1][:-1]\n",
    "BC=setenv(newDict)"
   ]
  },
  {
   "cell_type": "code",
   "execution_count": 6,
   "metadata": {},
   "outputs": [
    {
     "name": "stdout",
     "output_type": "stream",
     "text": [
      "CPU times: user 127 ms, sys: 168 ms, total: 295 ms\n",
      "Wall time: 1.45 s\n"
     ]
    }
   ],
   "source": [
    "#CD_19, insert gene expression profile path\n",
    "#filtered_matrix_h5='/.../filtered_gene_bc_matrices_h5.h5'\n",
    "\n",
    "#HLA_DR, insert gene expression profile path\n",
    "filtered_matrix_h5='/../filtered_gene_bc_matrices_h5.h5'\n",
    "\n",
    "genome = \"hg19\"\n",
    "\n",
    "#load expression profile\n",
    "%time gene_bc_matrix = get_matrix_from_h5(filtered_matrix_h5, genome)"
   ]
  },
  {
   "cell_type": "code",
   "execution_count": 7,
   "metadata": {
    "collapsed": true
   },
   "outputs": [],
   "source": [
    "#initailize dictionaries to store bootstraped data\n",
    "boot=defaultdict(int)\n",
    "Std=defaultdict(int)"
   ]
  },
  {
   "cell_type": "code",
   "execution_count": 8,
   "metadata": {
    "collapsed": true
   },
   "outputs": [],
   "source": [
    "#Create dataframe of cell barcodes vs expression\n",
    "gnames=gene_bc_matrix.gene_names\n",
    "cnames=gene_bc_matrix.barcodes\n",
    "DGE=pd.DataFrame(gene_bc_matrix.matrix.toarray())\n",
    "DGE.index=gnames\n",
    "DGE.columns=cnames\n",
    "cumi=DGE.sum() # number of UMIs per cell barcode"
   ]
  },
  {
   "cell_type": "code",
   "execution_count": 9,
   "metadata": {
    "collapsed": true
   },
   "outputs": [],
   "source": [
    "#get list of all barcode sequences\n",
    "barcodes=defaultdict(str)\n",
    "for index, item in enumerate(cnames):\n",
    "        barcodes[index]=item[:-2]\n",
    "        \n",
    "#identify number of reads assigned to each barocde\n",
    "Tot_BC=setenv(barcodes)\n",
    "reads=defaultdict(int)\n",
    "for k,v in Tot_BC.iteritems():\n",
    "    reads[v]=control[control.bc==v]['read_counts'].sum()"
   ]
  },
  {
   "cell_type": "code",
   "execution_count": 10,
   "metadata": {
    "collapsed": true
   },
   "outputs": [],
   "source": [
    "#HLA-DR\n",
    "\n",
    "list_a=[4,5,6,7,8,9]\n",
    "list_b=[12,13,14,15,16,17,30,31,32,33]\n",
    "list_c=[34,35,36,37,38,39,40,41,42,43]\n",
    "list_d=[44,45,46,47,48,49,50,51,52,53]\n",
    "list_e=[54,55,56,58,59,60,61,62,63,64,65,68]\n",
    "list_f=[4,5,6,7,8,9,12,13,14,15,16,17,30,31,32,33,34,35,37,38,39,40,41,42,43,44,45,46,48,49,50,51,52,53,54,55,56,58,59,60,61,62,63,64,65,68]"
   ]
  },
  {
   "cell_type": "code",
   "execution_count": 8,
   "metadata": {
    "collapsed": true
   },
   "outputs": [],
   "source": [
    "#CD-19\n",
    "\n",
    "list_a=[1,2,3,4,5,6,8,9,10]\n",
    "list_b=[11,12,13,14,15,16,17,18,19,20]\n",
    "list_c=[21,22,23,24,25,26,27,28]"
   ]
  },
  {
   "cell_type": "code",
   "execution_count": 11,
   "metadata": {
    "collapsed": true
   },
   "outputs": [],
   "source": [
    "#load each set of triplicate multiplex PCR enrichments (10X molecule info H5 file)\n",
    "samples=[1,2,3]\n",
    "t_path='/Users/nranu/Desktop/SC_enrichment/4_10_2017/'\n",
    "sample_path1='NR_'+str(samples[0])+'/'\n",
    "sample_path2='NR_'+str(samples[1])+'/'\n",
    "sample_path3='NR_'+str(samples[2])+'/'\n",
    "file_path='molecule_info.h5'\n",
    "NR1_=Read10x(t_path+sample_path1+file_path)\n",
    "NR2_=Read10x(t_path+sample_path2+file_path)\n",
    "NR3_=Read10x(t_path+sample_path3+file_path)"
   ]
  },
  {
   "cell_type": "code",
   "execution_count": 12,
   "metadata": {
    "collapsed": true
   },
   "outputs": [],
   "source": [
    "#combine all the data into one dataframe\n",
    "NR1_['Sample']=1\n",
    "NR2_['Sample']=2\n",
    "NR3_['Sample']=3\n",
    "NR_tot=pd.concat([NR1_,NR2_,NR3_])"
   ]
  },
  {
   "cell_type": "code",
   "execution_count": 13,
   "metadata": {},
   "outputs": [
    {
     "data": {
      "application/vnd.jupyter.widget-view+json": {
       "model_id": "841ea8fd8ebd4f9fa4402389e212ec2a",
       "version_major": 2,
       "version_minor": 0
      },
      "text/plain": [
       "A Jupyter Widget"
      ]
     },
     "metadata": {},
     "output_type": "display_data"
    },
    {
     "data": {
      "application/vnd.jupyter.widget-view+json": {
       "model_id": "4b6024a0513048ab94afeb0d975d9c5b",
       "version_major": 2,
       "version_minor": 0
      },
      "text/plain": [
       "A Jupyter Widget"
      ]
     },
     "metadata": {},
     "output_type": "display_data"
    },
    {
     "name": "stdout",
     "output_type": "stream",
     "text": [
      "\n"
     ]
    }
   ],
   "source": [
    "#Get the mean bootstrap expression values as well as the standard deviaation\n",
    "#the second variable is a list of the barcodes that were enriched within this sequencing run\n",
    "boot,Std=get_DGE(NR_tot,[4],boot,Std,BC,reads)"
   ]
  },
  {
   "cell_type": "code",
   "execution_count": 15,
   "metadata": {
    "collapsed": true
   },
   "outputs": [],
   "source": [
    "en=pd.DataFrame.from_dict(boot)\n",
    "en.index=gnames"
   ]
  },
  {
   "cell_type": "code",
   "execution_count": null,
   "metadata": {
    "collapsed": true
   },
   "outputs": [],
   "source": [
    "#Save the data \n",
    "#en.to_hdf('/../HLA_DR_Gene_expression_matrix.h5',key='10X')"
   ]
  }
 ],
 "metadata": {
  "kernelspec": {
   "display_name": "Python 2",
   "language": "python",
   "name": "python2"
  },
  "language_info": {
   "codemirror_mode": {
    "name": "ipython",
    "version": 2
   },
   "file_extension": ".py",
   "mimetype": "text/x-python",
   "name": "python",
   "nbconvert_exporter": "python",
   "pygments_lexer": "ipython2",
   "version": "2.7.14"
  }
 },
 "nbformat": 4,
 "nbformat_minor": 2
}
