{
 "cells": [
  {
   "cell_type": "code",
   "execution_count": 6,
   "metadata": {
    "collapsed": true
   },
   "outputs": [],
   "source": [
    "%matplotlib inline"
   ]
  },
  {
   "cell_type": "code",
   "execution_count": 7,
   "metadata": {},
   "outputs": [],
   "source": [
    "import collections\n",
    "import matplotlib\n",
    "import matplotlib.pyplot as plt\n",
    "import numpy as np\n",
    "import pandas as pd\n",
    "import scipy.sparse as sp_sparse\n",
    "import tables\n",
    "from matplotlib.mlab import PCA\n",
    "import seaborn as sns\n",
    "from collections import defaultdict\n",
    "import matplotlib.colors as mcolors\n",
    "import matplotlib.cm as cm\n",
    "from __future__ import division\n",
    "from scipy.stats import linregress"
   ]
  },
  {
   "cell_type": "code",
   "execution_count": 8,
   "metadata": {
    "collapsed": true
   },
   "outputs": [],
   "source": [
    "np.random.seed(0)\n",
    "\n",
    "GeneBCMatrix = collections.namedtuple('GeneBCMatrix', ['gene_ids', 'gene_names', 'barcodes', 'matrix'])\n",
    "\n",
    "def get_matrix_from_h5(filename, genome):\n",
    "    with tables.open_file(filename, 'r') as f:\n",
    "        try:\n",
    "            dsets = {}\n",
    "            for node in f.walk_nodes('/' + genome, 'Array'):\n",
    "                dsets[node.name] = node.read()\n",
    "            matrix = sp_sparse.csc_matrix((dsets['data'], dsets['indices'], dsets['indptr']), shape=dsets['shape'])\n",
    "            return GeneBCMatrix(dsets['genes'], dsets['gene_names'], dsets['barcodes'], matrix)\n",
    "        except tables.NoSuchNodeError:\n",
    "            raise Exception(\"Genome %s does not exist in this file.\" % genome)\n",
    "        except KeyError:\n",
    "            raise Exception(\"File is missing one or more required datasets.\")\n",
    "def Read10x(filepath):   \n",
    "    with tables.open_file(filepath, 'r') as f:\n",
    "        try:\n",
    "            group = f.get_node(f.root)\n",
    "        except tables.NoSuchNodeError:\n",
    "            print \"That genome does not exist in this file.\"\n",
    "        gene_ids = getattr(group, 'gene_ids').read()\n",
    "        gene_names = getattr(group, 'gene_names').read()\n",
    "        gene = getattr(group, 'gene').read()\n",
    "        umi_corrected_reads=getattr(group, 'umi_corrected_reads').read()\n",
    "        nonconf_mapped_reads=getattr(group, 'nonconf_mapped_reads').read()\n",
    "        conf_mapped_uniq_read_pos=getattr(group, 'conf_mapped_uniq_read_pos').read()\n",
    "        unmapped_reads=getattr(group, 'unmapped_reads').read()\n",
    "        barcodes = getattr(group, 'barcode').read()\n",
    "        reads = getattr(group, 'reads').read()\n",
    "        umi = getattr(group, 'umi').read()\n",
    "\n",
    "        TABLE=pd.DataFrame()\n",
    "        TABLE['bc']=barcodes\n",
    "        TABLE['umi']=umi\n",
    "        #TABLE['bcumi']=zip(barcodes,umi)\n",
    "        TABLE['gene']=gene\n",
    "        TABLE['unique']=[1]*len(TABLE)\n",
    "        TABLE['map_logical']=conf_mapped_uniq_read_pos>0\n",
    "        TABLE['read_counts']=reads+nonconf_mapped_reads+unmapped_reads\n",
    "        return TABLE\n",
    "\n",
    "def get_gene(BC,df_1):\n",
    "    Total=df_1.gene[df_1.bc==BC].value_counts().to_frame()\n",
    "    Total.columns=['Counts']\n",
    "    genes1=np.zeros(32739)\n",
    "    for index,rows in Total.iterrows():\n",
    "        genes1[index]=rows['Counts']\n",
    "    return genes1[:-1]\n",
    "def setenv(newDict):\n",
    "    DNA={}\n",
    "    DNA['A']='00'\n",
    "    DNA['C']='01'\n",
    "    DNA['G']='10'\n",
    "    DNA['T']='11'\n",
    "\n",
    "    BC_DNA2={}\n",
    "    for i in newDict.iterkeys(): \n",
    "        string=newDict[i]\n",
    "        for j in DNA.iterkeys():\n",
    "            string=string.replace(j,DNA[j])\n",
    "        BC_DNA2[i]=int(string,2)\n",
    "    return BC_DNA2\n",
    "\n",
    "def hamming_distance(s1, s2):\n",
    "    #Return the Hamming distance between equal-length sequences\n",
    "    if len(s1) != len(s2):\n",
    "        raise ValueError(\"Undefined for sequences of unequal length\")\n",
    "    return sum(ch1 != ch2 for ch1, ch2 in zip(s1, s2))"
   ]
  },
  {
   "cell_type": "code",
   "execution_count": 49,
   "metadata": {},
   "outputs": [],
   "source": [
    "newDict = {}\n",
    "#insert path to barcode text file\n",
    "with open('/../enriched_barcodes.txt', 'r') as f:\n",
    "    for line in f:\n",
    "        splitLine = line.split(',')\n",
    "        newDict[int(splitLine[0])] = splitLine[1][:-1]\n",
    "BC=setenv(newDict)"
   ]
  },
  {
   "cell_type": "code",
   "execution_count": 10,
   "metadata": {},
   "outputs": [
    {
     "name": "stdout",
     "output_type": "stream",
     "text": [
      "CPU times: user 117 ms, sys: 27 ms, total: 144 ms\n",
      "Wall time: 155 ms\n"
     ]
    }
   ],
   "source": [
    "#CD_19, insert gene expression profile path\n",
    "#filtered_matrix_h5='/.../filtered_gene_bc_matrices_h5.h5'\n",
    "\n",
    "#HLA_DR, insert gene expression profile path\n",
    "filtered_matrix_h5='/../filtered_gene_bc_matrices_h5.h5'\n",
    "\n",
    "genome = \"hg19\"\n",
    "\n",
    "#load expression profile\n",
    "%time gene_bc_matrix = get_matrix_from_h5(filtered_matrix_h5, genome)"
   ]
  },
  {
   "cell_type": "code",
   "execution_count": 51,
   "metadata": {
    "collapsed": true
   },
   "outputs": [],
   "source": [
    "gnames=gene_bc_matrix.gene_names\n",
    "cnames=gene_bc_matrix.barcodes\n",
    "DGE=pd.DataFrame(gene_bc_matrix.matrix.toarray())\n",
    "DGE.index=gnames\n",
    "DGE.columns=cnames\n",
    "cumi=DGE.sum()"
   ]
  },
  {
   "cell_type": "code",
   "execution_count": null,
   "metadata": {
    "collapsed": true
   },
   "outputs": [],
   "source": []
  },
  {
   "cell_type": "code",
   "execution_count": 52,
   "metadata": {
    "collapsed": true
   },
   "outputs": [],
   "source": [
    "#HLA-DR, load this one or the one below depending on which dataset is being analyzed\n",
    "\n",
    "list_a=[4,5,6,7,8,9]\n",
    "list_b=[12,13,14,15,16,17,30,31,32,33]\n",
    "list_c=[34,35,36,37,38,39,40,41,42,43]\n",
    "list_d=[44,45,46,47,48,49,50,51,52,53]\n",
    "list_e=[54,55,56,57,58,59,60,61,62,63,64,65,66,67,68]\n",
    "\n",
    "#All barcodes combined in one list\n",
    "list_f=[4,5,6,7,8,9,12,13,14,15,16,17,30,31,32,33,34,35,37,38,39,40,41,42,43,44,45,46,48,49,50,51,52,53,54,55,56,58,59,60,61,62,63,64,65,68]"
   ]
  },
  {
   "cell_type": "code",
   "execution_count": 50,
   "metadata": {
    "collapsed": true
   },
   "outputs": [],
   "source": [
    "#CD-19\n",
    "\n",
    "list_a=[1,2,3,4,5,6,8,9,10]\n",
    "list_b=[11,12,13,14,15,16,17,18,19,20]\n",
    "list_c=[21,22,23,24,25,26,27,28]\n",
    "list_g3=[1,2,3,4,5,6,8,15,16,17,18,19,20,21,22,23,24,27,28]\n",
    "list_f=[1,2,3,4,5,6,7,8,9,10,11,12,13,14,15,16,17,18,19,20,21,22,23,24,27,28]"
   ]
  },
  {
   "cell_type": "code",
   "execution_count": null,
   "metadata": {
    "collapsed": true
   },
   "outputs": [],
   "source": []
  },
  {
   "cell_type": "code",
   "execution_count": 53,
   "metadata": {
    "collapsed": true
   },
   "outputs": [],
   "source": [
    "#load gene expression matrix (insert path)\n",
    "enrich=pd.read_hdf('/Volumes/broad_blainey_lab_storage/Nav/temp/Manucript/Figures/FiguresV2/Data/Gene_expression/HLA_DR_Gene_expression_matrix.h5',key='10X').T\n",
    "enrich2=enrich.copy()\n",
    "\n",
    "#identify 10X barcode number, filter threshold, and barcode sequence\n",
    "enrich2['bc']=[newDict[int(x.split('_')[0])]+'-1' for x in enrich2.index]\n",
    "enrich2['filter']=[int(x.split('_')[2]) for x in enrich2.index]\n",
    "enrich2['BC']=[int(x.split('_')[0]) for x in enrich2.index]"
   ]
  },
  {
   "cell_type": "code",
   "execution_count": null,
   "metadata": {
    "collapsed": true
   },
   "outputs": [],
   "source": []
  },
  {
   "cell_type": "code",
   "execution_count": 54,
   "metadata": {
    "collapsed": true
   },
   "outputs": [],
   "source": [
    "#Get pairwise correlations between all cells in the library\n",
    "\n",
    "ham=defaultdict(int)\n",
    "for item1 in enrich2[(enrich2['filter']==3)&(enrich2.BC.isin(list_f))].index:\n",
    "    item1_1=enrich2.loc[item1]['bc']\n",
    "    gene1=enrich.loc[item1]\n",
    "    x=[]\n",
    "    for item2 in cnames:\n",
    "        gene2=DGE[item2]\n",
    "        U2=linregress(np.log10(gene1+1),np.log10(gene2+1))\n",
    "        x.extend([U2[2]**2])\n",
    "    ham[item1_1]=x\n",
    "corr_ham=pd.DataFrame.from_dict(ham)\n",
    "corr_ham.index=[x[:-2] for x in cnames]"
   ]
  },
  {
   "cell_type": "code",
   "execution_count": 55,
   "metadata": {
    "collapsed": true
   },
   "outputs": [],
   "source": [
    "#identify the pairwise hamming distance of all cells in the library\n",
    "\n",
    "ham3=defaultdict(int)\n",
    "for item1 in enrich2[(enrich2['filter']==3)&(enrich2.BC.isin(list_f))]['bc']:\n",
    "    item1_1=item1[-6:]\n",
    "    x=[]\n",
    "    for item2 in cnames:\n",
    "        item2_1=item2[:-2][-6:]\n",
    "        x.extend([hamming_distance(item1_1,item2_1)])\n",
    "    ham3[item1]=x\n",
    "ham3_df=pd.DataFrame.from_dict(ham3)\n",
    "ham3_df.index=[x[:-2] for x in cnames]"
   ]
  },
  {
   "cell_type": "code",
   "execution_count": null,
   "metadata": {
    "collapsed": true
   },
   "outputs": [],
   "source": []
  },
  {
   "cell_type": "code",
   "execution_count": 56,
   "metadata": {
    "collapsed": true
   },
   "outputs": [],
   "source": [
    "#identify which cell barcodes represent on target amplification\n",
    "col=pd.DataFrame(np.zeros(ham3_df.shape),columns=corr_ham.columns,index=corr_ham.index)\n",
    "for item in list_f:\n",
    "    barc=newDict[item]\n",
    "    col.at[barc,barc+'-1']=1"
   ]
  },
  {
   "cell_type": "code",
   "execution_count": 57,
   "metadata": {},
   "outputs": [],
   "source": [
    "X1=ham3_df[[newDict[x]+'-1' for x in list_f]].values\n",
    "\n",
    "Y1=corr_ham[[newDict[x]+'-1' for x in list_f]].values\n",
    "col2=col[[newDict[x]+'-1' for x in list_f]].values.astype('bool')\n",
    "\n",
    "# for barcodes that are on target\n",
    "Data=pd.concat([pd.DataFrame(X1[col2].flatten()).T,pd.DataFrame(Y1[col2].flatten()).T]).T\n",
    "# for barcodes that are off target\n",
    "Data=pd.concat([pd.DataFrame(X1[~col2].flatten()).T,pd.DataFrame(Y1[~col2].flatten()).T]).T\n",
    "\n",
    "Data.columns=['Ham','Corr']\n"
   ]
  },
  {
   "cell_type": "code",
   "execution_count": 221,
   "metadata": {
    "collapsed": true
   },
   "outputs": [],
   "source": [
    "#Saving data to excel files\n",
    "temp=Data[temp_cray.Ham==0]\n",
    "temp['Corr'].to_clipboard()"
   ]
  },
  {
   "cell_type": "code",
   "execution_count": 3,
   "metadata": {
    "collapsed": true
   },
   "outputs": [],
   "source": [
    "#load correlation matrixes for enriched vs original and bootstrap enriched vs original\n",
    "non_target=pd.read_csv('/Volumes/broad_blainey_lab_storage/Nav/temp/Manucript/Figures/FiguresV2/Data/Corr_ham/HLA_DR_corr_ham6.csv')\n",
    "c_boot=pd.read_csv('/Volumes/broad_blainey_lab_storage/Nav/temp/Manucript/Figures/FiguresV2/Data/Bootstrap_controls/Bootstrapped_control_HLA_DR.csv')"
   ]
  },
  {
   "cell_type": "code",
   "execution_count": 4,
   "metadata": {},
   "outputs": [
    {
     "data": {
      "text/plain": [
       "<matplotlib.lines.Line2D at 0x109707b50>"
      ]
     },
     "execution_count": 4,
     "metadata": {},
     "output_type": "execute_result"
    },
    {
     "data": {
      "image/png": "[encoded data removed]",
      "text/plain": [
       "<matplotlib.figure.Figure at 0x10968c350>"
      ]
     },
     "metadata": {},
     "output_type": "display_data"
    }
   ],
   "source": [
    "fig,ax=plt.subplots(figsize=(4.5,3))#3,2 4.5,3\n",
    "sns.set(style='white')\n",
    "sns.set_context(\"paper\",rc={\"lines.linewidth\": 2,'axes.labelsize': 10,'text.fontsize': 10,'legend.fontsize': 10,\n",
    "   'xtick.labelsize': 10,'ytick.labelsize': 10,'text.usetex': False})\n",
    "positions=np.arange(7)/4\n",
    "bp2=non_target.boxplot(column=['Target'],return_type='dict',positions=[0],widths=.15)\n",
    "\n",
    "for element in ['boxes', 'whiskers', 'fliers', 'means', 'medians', 'caps']:\n",
    "        plt.setp(bp2[element], color='k',linewidth=1)\n",
    "\n",
    "bp=non_target.boxplot(column=[str(x) for x in range(7)],return_type='dict',positions=positions,widths=.15)\n",
    "\n",
    "for element in ['boxes', 'whiskers', 'fliers', 'means', 'medians', 'caps']:\n",
    "        plt.setp(bp[element], color='gray',linewidth=1)\n",
    "\n",
    "\n",
    "y = non_target['Target']\n",
    "x = np.random.normal(0, 0.05, len(y))\n",
    "ax.scatter(x,y,s=5,c='r')\n",
    "    \n",
    "plt.ylim([0,1.0])\n",
    "plt.xlim([-.25,1.75])\n",
    "plt.xlabel('')\n",
    "plt.ylabel('Correlation')\n",
    "plt.yticks([0,.2,.4,.6,.8,1],[0,.2,.4,.6,.8,1])\n",
    "sns.despine()\n",
    "ax.grid(False)\n",
    "ax.tick_params(axis=u'both', which=u'both',length=2)\n",
    "plt.minorticks_off()\n",
    "\n",
    "plt.xlabel(\"Hamming distance of 3' end of cell barcode\")\n",
    "plt.title('Dendritic cells')\n",
    "plt.ylabel('Correlation')\n",
    "\n",
    "\n",
    "plt.tight_layout()\n",
    "\n",
    "m=c_boot['mean'].mean()\n",
    "s=c_boot['mean'].std()\n",
    "plt.axhspan(m-2*s,m+2*s,facecolor='gray', alpha=0.25)\n",
    "plt.axhline(m,color='gray',linewidth=1,linestyle='dashed')\n",
    "\n",
    "plt.axhline(non_target['6'].mean(),color='gray',linewidth=2,linestyle='dotted')"
   ]
  },
  {
   "cell_type": "code",
   "execution_count": 58,
   "metadata": {},
   "outputs": [
    {
     "data": {
      "text/plain": [
       "<matplotlib.colorbar.Colorbar at 0x1a14a8ab90>"
      ]
     },
     "execution_count": 58,
     "metadata": {},
     "output_type": "execute_result"
    },
    {
     "data": {
      "image/png": "[encoded data removed]",
      "text/plain": [
       "<matplotlib.figure.Figure at 0x10933aa50>"
      ]
     },
     "metadata": {},
     "output_type": "display_data"
    }
   ],
   "source": [
    "fig,ax=plt.subplots(figsize=(3,3))#2.5,2.5\n",
    "pc=plt.pcolor(corr_ham[[newDict[x]+'-1' for x in list_f]].loc[[newDict[x] for x in list_f]],vmin=0,vmax=1)\n",
    "\n",
    "\n",
    "sns.set_context(\"paper\",rc={\"lines.linewidth\": 2,'axes.labelsize': 10,'text.fontsize': 20,'legend.fontsize': 10,\n",
    "   'xtick.labelsize': 10,'ytick.labelsize': 10,'text.usetex': False})\n",
    "\n",
    "\n",
    "plt.xlabel('Enriched Cells')\n",
    "plt.ylabel('Original Cells')\n",
    "plt.colorbar(pc)\n"
   ]
  },
  {
   "cell_type": "code",
   "execution_count": null,
   "metadata": {},
   "outputs": [],
   "source": []
  },
  {
   "cell_type": "code",
   "execution_count": null,
   "metadata": {},
   "outputs": [],
   "source": []
  },
  {
   "cell_type": "code",
   "execution_count": null,
   "metadata": {},
   "outputs": [],
   "source": []
  },
  {
   "cell_type": "code",
   "execution_count": null,
   "metadata": {
    "collapsed": true
   },
   "outputs": [],
   "source": []
  }
 ],
 "metadata": {
  "kernelspec": {
   "display_name": "Python 2",
   "language": "python",
   "name": "python2"
  },
  "language_info": {
   "codemirror_mode": {
    "name": "ipython",
    "version": 2
   },
   "file_extension": ".py",
   "mimetype": "text/x-python",
   "name": "python",
   "nbconvert_exporter": "python",
   "pygments_lexer": "ipython2",
   "version": "2.7.14"
  }
 },
 "nbformat": 4,
 "nbformat_minor": 2
}
